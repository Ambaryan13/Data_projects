{
 "cells": [
  {
   "cell_type": "markdown",
   "id": "99f7bbcc",
   "metadata": {},
   "source": [
    "# Project - Retail: \n",
    "## Building Materials Store"
   ]
  },
  {
   "cell_type": "markdown",
   "id": "900328db",
   "metadata": {},
   "source": [
    "**Main objective of the project:**\n",
    "\n",
    "- To analyse the shop's loyalty programme:\n",
    "     - Evaluate the results of the loyalty programme implementation, namely whether the key performance indicators of the customers included in the loyalty programme are increasing;\n",
    "     - To understand how well the loyalty programme has worked and whether it is worth using it further.\n",
    "\n",
    "\n",
    "- Prepare the main project, presentation and dashboard on the basis of the conducted analysis and present the obtained results and make specific recommendations for the business.\n",
    "\n",
    "**Job Steps:**\n",
    "\n",
    "- Data loading and preparation for research;\n",
    "- Research analysis of the data;\n",
    "- Solving the main questions of the customer;\n",
    "- Statistical hypothesis testing (two H0 hypotheses);\n",
    "- Conclusion and recommendations to the customer;\n",
    "- Materials for colleagues in the commercial department:\n",
    "    - Prepare presentation and dashboard."
   ]
  },
  {
   "cell_type": "markdown",
   "id": "9f17a23f",
   "metadata": {},
   "source": [
    "--------"
   ]
  },
  {
   "cell_type": "markdown",
   "id": "0574534a",
   "metadata": {},
   "source": [
    "### 1. Data loading and preparation for the study:"
   ]
  },
  {
   "cell_type": "markdown",
   "id": "3034130f",
   "metadata": {},
   "source": [
    "- Loading data / Overview of the dataframe\n",
    "- Checking data types and converting them to the required format\n",
    "- Handling missing values\n",
    "- Search for explicit/implicit duplicates"
   ]
  },
  {
   "cell_type": "code",
   "execution_count": 1,
   "id": "241d9e20",
   "metadata": {},
   "outputs": [],
   "source": [
    "# Connect basic libraries and read external data\n",
    "\n",
    "import pandas as pd\n",
    "import numpy as np\n",
    "import seaborn as sns\n",
    "import matplotlib.pyplot as plt\n",
    "import datetime as dt\n",
    "from datetime import timedelta\n",
    "import scipy.stats as stats\n",
    "from scipy import stats as st\n",
    "from scipy.stats import mannwhitneyu\n",
    "import warnings; warnings.filterwarnings(action = 'ignore')"
   ]
  },
  {
   "cell_type": "code",
   "execution_count": 2,
   "id": "af346b8b",
   "metadata": {},
   "outputs": [],
   "source": [
    "# Reading retail_dataset.csv data:\n",
    "\n",
    "path = '/Users/elenpogosan/python_data/Final_project/'\n",
    "\n",
    "try:\n",
    "    retail_data = pd.read_csv(path + 'retail_dataset.csv')\n",
    "except:\n",
    "    retail_data = pd.read_csv('/datasets/retail_dataset.csv')"
   ]
  },
  {
   "cell_type": "code",
   "execution_count": 3,
   "id": "903cadef",
   "metadata": {},
   "outputs": [],
   "source": [
    "# Reading product_codes.csv data:\n",
    "\n",
    "try:\n",
    "    product_data = pd.read_csv(path + 'product_codes.csv')\n",
    "except:\n",
    "    product_data = pd.read_csv('/datasets/product_codes.csv')"
   ]
  },
  {
   "cell_type": "markdown",
   "id": "db4dd27a",
   "metadata": {},
   "source": [
    "df retail_data:\n",
    "\n",
    "- `purchaseId` - id of the cheque;\n",
    "- `item_ID` - id of item;\n",
    "- `purchasedate` - date of purchase;\n",
    "- `Quantity` - quantity of goods;\n",
    "- `CustomerID` - id of the customer;\n",
    "- `ShopID` - id of the shop;\n",
    "- `loyalty_program` - whether the customer participates in the loyalty programme;\n",
    "\n",
    "df product_data:\n",
    "\n",
    "- `productID` - id of the product;\n",
    "- `price_per_one` - cost of one unit of goods;"
   ]
  },
  {
   "cell_type": "code",
   "execution_count": 4,
   "id": "a853faab",
   "metadata": {
    "scrolled": false
   },
   "outputs": [
    {
     "data": {
      "text/html": [
       "<div>\n",
       "<style scoped>\n",
       "    .dataframe tbody tr th:only-of-type {\n",
       "        vertical-align: middle;\n",
       "    }\n",
       "\n",
       "    .dataframe tbody tr th {\n",
       "        vertical-align: top;\n",
       "    }\n",
       "\n",
       "    .dataframe thead th {\n",
       "        text-align: right;\n",
       "    }\n",
       "</style>\n",
       "<table border=\"1\" class=\"dataframe\">\n",
       "  <thead>\n",
       "    <tr style=\"text-align: right;\">\n",
       "      <th></th>\n",
       "      <th>purchaseid</th>\n",
       "      <th>item_ID</th>\n",
       "      <th>Quantity</th>\n",
       "      <th>purchasedate</th>\n",
       "      <th>CustomerID</th>\n",
       "      <th>ShopID</th>\n",
       "      <th>loyalty_program</th>\n",
       "    </tr>\n",
       "  </thead>\n",
       "  <tbody>\n",
       "    <tr>\n",
       "      <th>0</th>\n",
       "      <td>538280</td>\n",
       "      <td>21873</td>\n",
       "      <td>11</td>\n",
       "      <td>2016-12-10 12:50:00</td>\n",
       "      <td>18427.0</td>\n",
       "      <td>Shop 0</td>\n",
       "      <td>0.0</td>\n",
       "    </tr>\n",
       "    <tr>\n",
       "      <th>1</th>\n",
       "      <td>538862</td>\n",
       "      <td>22195</td>\n",
       "      <td>0</td>\n",
       "      <td>2016-12-14 14:11:00</td>\n",
       "      <td>22389.0</td>\n",
       "      <td>Shop 0</td>\n",
       "      <td>1.0</td>\n",
       "    </tr>\n",
       "    <tr>\n",
       "      <th>2</th>\n",
       "      <td>538855</td>\n",
       "      <td>21239</td>\n",
       "      <td>7</td>\n",
       "      <td>2016-12-14 13:50:00</td>\n",
       "      <td>22182.0</td>\n",
       "      <td>Shop 0</td>\n",
       "      <td>1.0</td>\n",
       "    </tr>\n",
       "    <tr>\n",
       "      <th>3</th>\n",
       "      <td>543543</td>\n",
       "      <td>22271</td>\n",
       "      <td>0</td>\n",
       "      <td>2017-02-09 15:33:00</td>\n",
       "      <td>23522.0</td>\n",
       "      <td>Shop 0</td>\n",
       "      <td>1.0</td>\n",
       "    </tr>\n",
       "    <tr>\n",
       "      <th>4</th>\n",
       "      <td>543812</td>\n",
       "      <td>79321</td>\n",
       "      <td>0</td>\n",
       "      <td>2017-02-13 14:40:00</td>\n",
       "      <td>23151.0</td>\n",
       "      <td>Shop 0</td>\n",
       "      <td>1.0</td>\n",
       "    </tr>\n",
       "  </tbody>\n",
       "</table>\n",
       "</div>"
      ],
      "text/plain": [
       "  purchaseid item_ID  Quantity         purchasedate  CustomerID  ShopID  \\\n",
       "0     538280   21873        11  2016-12-10 12:50:00     18427.0  Shop 0   \n",
       "1     538862   22195         0  2016-12-14 14:11:00     22389.0  Shop 0   \n",
       "2     538855   21239         7  2016-12-14 13:50:00     22182.0  Shop 0   \n",
       "3     543543   22271         0  2017-02-09 15:33:00     23522.0  Shop 0   \n",
       "4     543812   79321         0  2017-02-13 14:40:00     23151.0  Shop 0   \n",
       "\n",
       "   loyalty_program  \n",
       "0              0.0  \n",
       "1              1.0  \n",
       "2              1.0  \n",
       "3              1.0  \n",
       "4              1.0  "
      ]
     },
     "metadata": {},
     "output_type": "display_data"
    }
   ],
   "source": [
    "display(retail_data.head())"
   ]
  },
  {
   "cell_type": "code",
   "execution_count": 5,
   "id": "dfa35c80",
   "metadata": {},
   "outputs": [
    {
     "data": {
      "text/html": [
       "<div>\n",
       "<style scoped>\n",
       "    .dataframe tbody tr th:only-of-type {\n",
       "        vertical-align: middle;\n",
       "    }\n",
       "\n",
       "    .dataframe tbody tr th {\n",
       "        vertical-align: top;\n",
       "    }\n",
       "\n",
       "    .dataframe thead th {\n",
       "        text-align: right;\n",
       "    }\n",
       "</style>\n",
       "<table border=\"1\" class=\"dataframe\">\n",
       "  <thead>\n",
       "    <tr style=\"text-align: right;\">\n",
       "      <th></th>\n",
       "      <th>productID</th>\n",
       "      <th>price_per_one</th>\n",
       "    </tr>\n",
       "  </thead>\n",
       "  <tbody>\n",
       "    <tr>\n",
       "      <th>0</th>\n",
       "      <td>85123A</td>\n",
       "      <td>2.55</td>\n",
       "    </tr>\n",
       "    <tr>\n",
       "      <th>1</th>\n",
       "      <td>71053</td>\n",
       "      <td>3.39</td>\n",
       "    </tr>\n",
       "    <tr>\n",
       "      <th>2</th>\n",
       "      <td>84406B</td>\n",
       "      <td>2.75</td>\n",
       "    </tr>\n",
       "    <tr>\n",
       "      <th>3</th>\n",
       "      <td>84029G</td>\n",
       "      <td>3.39</td>\n",
       "    </tr>\n",
       "    <tr>\n",
       "      <th>4</th>\n",
       "      <td>84029E</td>\n",
       "      <td>3.39</td>\n",
       "    </tr>\n",
       "  </tbody>\n",
       "</table>\n",
       "</div>"
      ],
      "text/plain": [
       "  productID  price_per_one\n",
       "0    85123A           2.55\n",
       "1     71053           3.39\n",
       "2    84406B           2.75\n",
       "3    84029G           3.39\n",
       "4    84029E           3.39"
      ]
     },
     "metadata": {},
     "output_type": "display_data"
    }
   ],
   "source": [
    "display(product_data.head())"
   ]
  },
  {
   "cell_type": "code",
   "execution_count": 6,
   "id": "d4ba8630",
   "metadata": {
    "scrolled": true
   },
   "outputs": [
    {
     "name": "stdout",
     "output_type": "stream",
     "text": [
      "<class 'pandas.core.frame.DataFrame'>\n",
      "RangeIndex: 105335 entries, 0 to 105334\n",
      "Data columns (total 7 columns):\n",
      " #   Column           Non-Null Count   Dtype  \n",
      "---  ------           --------------   -----  \n",
      " 0   purchaseid       105335 non-null  object \n",
      " 1   item_ID          105335 non-null  object \n",
      " 2   Quantity         105335 non-null  int64  \n",
      " 3   purchasedate     105335 non-null  object \n",
      " 4   CustomerID       69125 non-null   float64\n",
      " 5   ShopID           105335 non-null  object \n",
      " 6   loyalty_program  105335 non-null  float64\n",
      "dtypes: float64(2), int64(1), object(4)\n",
      "memory usage: 5.6+ MB\n"
     ]
    }
   ],
   "source": [
    "retail_data.info()"
   ]
  },
  {
   "cell_type": "code",
   "execution_count": 7,
   "id": "bcf856ac",
   "metadata": {},
   "outputs": [
    {
     "name": "stdout",
     "output_type": "stream",
     "text": [
      "<class 'pandas.core.frame.DataFrame'>\n",
      "RangeIndex: 9969 entries, 0 to 9968\n",
      "Data columns (total 2 columns):\n",
      " #   Column         Non-Null Count  Dtype  \n",
      "---  ------         --------------  -----  \n",
      " 0   productID      9969 non-null   object \n",
      " 1   price_per_one  9969 non-null   float64\n",
      "dtypes: float64(1), object(1)\n",
      "memory usage: 155.9+ KB\n"
     ]
    }
   ],
   "source": [
    "product_data.info()"
   ]
  },
  {
   "cell_type": "code",
   "execution_count": 8,
   "id": "9d856f54",
   "metadata": {},
   "outputs": [],
   "source": [
    "# Correction in column names:\n",
    "\n",
    "retail_data = retail_data.rename(columns={'purchaseid': 'purchase_id', 'item_ID': 'item_id',\n",
    "                                          'Quantity': 'quantity', 'purchasedate': 'purchase_date',\n",
    "                                          'CustomerID': 'customer_id', 'ShopID': 'shop_id'})\n",
    "\n",
    "product_data = product_data.rename(columns={'productID': 'product_id'})"
   ]
  },
  {
   "cell_type": "code",
   "execution_count": 9,
   "id": "9acb3146",
   "metadata": {},
   "outputs": [],
   "source": [
    "# replace the date data type:\n",
    "\n",
    "retail_data['purchase_date'] = pd.to_datetime(retail_data['purchase_date'])"
   ]
  },
  {
   "cell_type": "code",
   "execution_count": 10,
   "id": "4db37707",
   "metadata": {},
   "outputs": [
    {
     "name": "stdout",
     "output_type": "stream",
     "text": [
      "count                           105335\n",
      "mean     2017-01-09 18:18:42.962927872\n",
      "min                2016-12-01 08:26:00\n",
      "25%                2016-12-12 13:32:00\n",
      "50%                2017-01-11 12:41:00\n",
      "75%                2017-02-01 15:12:00\n",
      "max                2017-02-28 17:04:00\n",
      "Name: purchase_date, dtype: object\n"
     ]
    }
   ],
   "source": [
    "print(retail_data['purchase_date'].describe())"
   ]
  },
  {
   "cell_type": "markdown",
   "id": "2710ca30",
   "metadata": {},
   "source": [
    "- **Beginning of data recording:**\n",
    "  - 1 December 2016; 08:26:00 PM.\n",
    "- **End of data recording:** \n",
    "  - 28 February 2017; 17:04:00"
   ]
  },
  {
   "cell_type": "code",
   "execution_count": 11,
   "id": "fc6ce147",
   "metadata": {},
   "outputs": [
    {
     "data": {
      "text/html": [
       "<div>\n",
       "<style scoped>\n",
       "    .dataframe tbody tr th:only-of-type {\n",
       "        vertical-align: middle;\n",
       "    }\n",
       "\n",
       "    .dataframe tbody tr th {\n",
       "        vertical-align: top;\n",
       "    }\n",
       "\n",
       "    .dataframe thead th {\n",
       "        text-align: right;\n",
       "    }\n",
       "</style>\n",
       "<table border=\"1\" class=\"dataframe\">\n",
       "  <thead>\n",
       "    <tr style=\"text-align: right;\">\n",
       "      <th></th>\n",
       "      <th>purchase_id</th>\n",
       "      <th>item_id</th>\n",
       "      <th>quantity</th>\n",
       "      <th>purchase_date</th>\n",
       "      <th>customer_id</th>\n",
       "      <th>shop_id</th>\n",
       "      <th>loyalty_program</th>\n",
       "    </tr>\n",
       "  </thead>\n",
       "  <tbody>\n",
       "    <tr>\n",
       "      <th>0</th>\n",
       "      <td>538280</td>\n",
       "      <td>21873</td>\n",
       "      <td>11</td>\n",
       "      <td>2016-12-10 12:50:00</td>\n",
       "      <td>18427.0</td>\n",
       "      <td>Shop 0</td>\n",
       "      <td>0.0</td>\n",
       "    </tr>\n",
       "    <tr>\n",
       "      <th>1</th>\n",
       "      <td>538862</td>\n",
       "      <td>22195</td>\n",
       "      <td>0</td>\n",
       "      <td>2016-12-14 14:11:00</td>\n",
       "      <td>22389.0</td>\n",
       "      <td>Shop 0</td>\n",
       "      <td>1.0</td>\n",
       "    </tr>\n",
       "    <tr>\n",
       "      <th>2</th>\n",
       "      <td>538855</td>\n",
       "      <td>21239</td>\n",
       "      <td>7</td>\n",
       "      <td>2016-12-14 13:50:00</td>\n",
       "      <td>22182.0</td>\n",
       "      <td>Shop 0</td>\n",
       "      <td>1.0</td>\n",
       "    </tr>\n",
       "    <tr>\n",
       "      <th>3</th>\n",
       "      <td>543543</td>\n",
       "      <td>22271</td>\n",
       "      <td>0</td>\n",
       "      <td>2017-02-09 15:33:00</td>\n",
       "      <td>23522.0</td>\n",
       "      <td>Shop 0</td>\n",
       "      <td>1.0</td>\n",
       "    </tr>\n",
       "    <tr>\n",
       "      <th>4</th>\n",
       "      <td>543812</td>\n",
       "      <td>79321</td>\n",
       "      <td>0</td>\n",
       "      <td>2017-02-13 14:40:00</td>\n",
       "      <td>23151.0</td>\n",
       "      <td>Shop 0</td>\n",
       "      <td>1.0</td>\n",
       "    </tr>\n",
       "  </tbody>\n",
       "</table>\n",
       "</div>"
      ],
      "text/plain": [
       "  purchase_id item_id  quantity       purchase_date  customer_id shop_id  \\\n",
       "0      538280   21873        11 2016-12-10 12:50:00      18427.0  Shop 0   \n",
       "1      538862   22195         0 2016-12-14 14:11:00      22389.0  Shop 0   \n",
       "2      538855   21239         7 2016-12-14 13:50:00      22182.0  Shop 0   \n",
       "3      543543   22271         0 2017-02-09 15:33:00      23522.0  Shop 0   \n",
       "4      543812   79321         0 2017-02-13 14:40:00      23151.0  Shop 0   \n",
       "\n",
       "   loyalty_program  \n",
       "0              0.0  \n",
       "1              1.0  \n",
       "2              1.0  \n",
       "3              1.0  \n",
       "4              1.0  "
      ]
     },
     "metadata": {},
     "output_type": "display_data"
    }
   ],
   "source": [
    "display(retail_data.head())"
   ]
  },
  {
   "cell_type": "markdown",
   "id": "3127812b",
   "metadata": {},
   "source": [
    "- The retail_data dataframe contains 105335 rows, 7 columns, there are no gaps in the first four columns but there are significant gaps in the customer_id column (36210 rows or 34.4%);\n",
    "\n",
    "\n",
    "- The product_data dataframe contains 9969 rows, 2 columns, no column omissions.\n",
    "\n",
    "\n",
    "- Corrections:\n",
    "    - Correction of column names;\n",
    "    - Replacement of purchase_date column data type."
   ]
  },
  {
   "cell_type": "code",
   "execution_count": 12,
   "id": "2fcb8f05",
   "metadata": {},
   "outputs": [
    {
     "name": "stdout",
     "output_type": "stream",
     "text": [
      "Duplicates retail_data: 1033\n",
      "Duplicates product_data: 0\n"
     ]
    }
   ],
   "source": [
    "# Checking for duplicates\n",
    "\n",
    "print('Duplicates retail_data:', retail_data.duplicated().sum())\n",
    "print('Duplicates product_data:', product_data.duplicated().sum())"
   ]
  },
  {
   "cell_type": "code",
   "execution_count": 13,
   "id": "eb32075b",
   "metadata": {},
   "outputs": [
    {
     "name": "stdout",
     "output_type": "stream",
     "text": [
      "Implicit duplicates: 1033\n"
     ]
    }
   ],
   "source": [
    "# Function for implicit duplicates:\n",
    "\n",
    "def clean_duplicates(value):\n",
    "    if isinstance(value, str):\n",
    "        value = value.lower() # Перевод к нижнему регистру\n",
    "        value = value.strip() # Удаление пробелов в начале и конце строки\n",
    "        return value\n",
    "    return value\n",
    "\n",
    "# Applying the function to each element of the dataframe\n",
    "data_cleaned = retail_data.applymap(clean_duplicates)\n",
    "\n",
    "\n",
    "# Finding duplicates after data cleansing\n",
    "duplicates_cnt = data_cleaned.duplicated(keep='first').sum()\n",
    "\n",
    "# Displaying the number of duplicates\n",
    "print(f'Implicit duplicates: {duplicates_cnt}')"
   ]
  },
  {
   "cell_type": "markdown",
   "id": "99606c1f",
   "metadata": {},
   "source": [
    "- Duplicates less than 1% of the df data can be left as there is no clear understanding that these are erroneous duplicates."
   ]
  },
  {
   "cell_type": "code",
   "execution_count": 14,
   "id": "3142e13f",
   "metadata": {},
   "outputs": [
    {
     "name": "stdout",
     "output_type": "stream",
     "text": [
      "purchase_id            0\n",
      "item_id                0\n",
      "quantity               0\n",
      "purchase_date          0\n",
      "customer_id        36210\n",
      "shop_id                0\n",
      "loyalty_program        0\n",
      "dtype: int64\n",
      "--------------------------\n",
      "product_id       0\n",
      "price_per_one    0\n",
      "dtype: int64\n"
     ]
    }
   ],
   "source": [
    "# Number of skips by dataframe column:\n",
    "\n",
    "print(retail_data.isna().sum())\n",
    "print('--------------------------')\n",
    "print(product_data.isna().sum())"
   ]
  },
  {
   "cell_type": "markdown",
   "id": "986fda9f",
   "metadata": {},
   "source": [
    "- The omissions in customer_id may be from random customers who are not in the loyalty programme, so we will not delete at this stage"
   ]
  },
  {
   "cell_type": "code",
   "execution_count": 15,
   "id": "811fe0f7",
   "metadata": {},
   "outputs": [
    {
     "name": "stdout",
     "output_type": "stream",
     "text": [
      "['Shop 0' 'Shop 1' 'Shop 4' 'Shop 6' 'Shop 2' 'Shop 11' 'Shop 3' 'Shop 5'\n",
      " 'Shop 7' 'Shop 12' 'Shop 8' 'Shop 27' 'Shop 10' 'Shop 20' 'Shop 19'\n",
      " 'Shop 25' 'Shop 14' 'Shop 21' 'Shop 18' 'Shop 9' 'Shop 16' 'Shop 28'\n",
      " 'Shop 29' 'Shop 17' 'Shop 22' 'Shop 13' 'Shop 26' 'Shop 24' 'Shop 15'\n",
      " 'Shop 23' 'Shop 30']\n"
     ]
    }
   ],
   "source": [
    "print(retail_data['shop_id'].unique())"
   ]
  },
  {
   "cell_type": "markdown",
   "id": "66106f8d",
   "metadata": {},
   "source": [
    "- 31 construction shops in the network"
   ]
  },
  {
   "cell_type": "code",
   "execution_count": 16,
   "id": "60df0744",
   "metadata": {
    "scrolled": true
   },
   "outputs": [
    {
     "name": "stdout",
     "output_type": "stream",
     "text": [
      "count    105335.000000\n",
      "mean          7.821218\n",
      "std         327.946695\n",
      "min      -74216.000000\n",
      "25%           0.000000\n",
      "50%           2.000000\n",
      "75%           7.000000\n",
      "max       74214.000000\n",
      "Name: quantity, dtype: float64\n"
     ]
    }
   ],
   "source": [
    "print(retail_data['quantity'].describe())"
   ]
  },
  {
   "cell_type": "code",
   "execution_count": 17,
   "id": "ec64402e",
   "metadata": {},
   "outputs": [
    {
     "name": "stdout",
     "output_type": "stream",
     "text": [
      "Number of negative values: 2118 or 2.01%\n",
      "Number of zero values: 33055 or 31.38%\n"
     ]
    }
   ],
   "source": [
    "# Total number of values in the column\n",
    "total_df_values = retail_data.shape[0]\n",
    "\n",
    "# Check negative values\n",
    "negative_val = retail_data[retail_data['quantity'] < 0].shape[0]\n",
    "print(f\"Number of negative values: {negative_val} or \\\n",
    "{round(negative_val / total_df_values * 100, 2)}%\")\n",
    "\n",
    "# Checking zero values\n",
    "zero_val = retail_data[retail_data['quantity'] == 0].shape[0]\n",
    "print(f\"Number of zero values: {zero_val} or \\\n",
    "{round(zero_val / total_df_values * 100, 2)}%\")"
   ]
  },
  {
   "cell_type": "markdown",
   "id": "333e1f1a",
   "metadata": {},
   "source": [
    "- Negative values of only 2% can be deleted, which may be an error in the cash register record or data transfer;\n",
    "- Zero values can be left, as they are too many to delete and some of these data may be write-offs."
   ]
  },
  {
   "cell_type": "code",
   "execution_count": 18,
   "id": "60ad3d7c",
   "metadata": {},
   "outputs": [],
   "source": [
    "# Removal of negative and explicit emissions\n",
    "\n",
    "max_value = retail_data['quantity'].max()\n",
    "min_value = retail_data['quantity'].min()\n",
    "\n",
    "retail_data = retail_data[(retail_data['quantity'] != max_value) & (retail_data['quantity'] != min_value) & \\\n",
    "                 (retail_data['quantity'] >= 0)]"
   ]
  },
  {
   "cell_type": "code",
   "execution_count": 19,
   "id": "88d1979f",
   "metadata": {},
   "outputs": [
    {
     "name": "stdout",
     "output_type": "stream",
     "text": [
      "count    103216.000000\n",
      "mean          8.422105\n",
      "std          44.849522\n",
      "min           0.000000\n",
      "25%           0.000000\n",
      "50%           2.000000\n",
      "75%           8.000000\n",
      "max        5567.000000\n",
      "Name: quantity, dtype: float64\n"
     ]
    }
   ],
   "source": [
    "print(retail_data['quantity'].describe())"
   ]
  },
  {
   "cell_type": "code",
   "execution_count": 20,
   "id": "1345de9f",
   "metadata": {},
   "outputs": [
    {
     "data": {
      "image/png": "[encoded data removed]",
      "text/plain": [
       "<Figure size 640x480 with 1 Axes>"
      ]
     },
     "metadata": {},
     "output_type": "display_data"
    }
   ],
   "source": [
    "plt.boxplot(retail_data['quantity'])\n",
    "plt.show()"
   ]
  },
  {
   "cell_type": "markdown",
   "id": "4e05d20a",
   "metadata": {},
   "source": [
    "- Still a lot of outliers or maybe it is not outliers but large purchases with many different items;\n",
    "- The 3rd quartile shows that 75% of the values are below 8;\n",
    "- You can try to filter the values in more detail and remove the values that are too steep from the analysis, and you can make a correction of 1.5 interquartile range to determine outliers."
   ]
  },
  {
   "cell_type": "code",
   "execution_count": 21,
   "id": "540f3988",
   "metadata": {},
   "outputs": [],
   "source": [
    "q1 = retail_data['quantity'].quantile(0.25)\n",
    "q3 = retail_data['quantity'].quantile(0.75)\n",
    "q_range = q3 - q1\n",
    "\n",
    "lower_range = q1 - 1.5 * q_range\n",
    "upper_range = q3 + 1.5 * q_range\n",
    "\n",
    "retail_data = retail_data[(retail_data['quantity'] >= lower_range) & (retail_data['quantity'] <= upper_range)]"
   ]
  },
  {
   "cell_type": "code",
   "execution_count": 22,
   "id": "4c1ab8a5",
   "metadata": {},
   "outputs": [
    {
     "data": {
      "image/png": "[encoded data removed]",
      "text/plain": [
       "<Figure size 640x480 with 1 Axes>"
      ]
     },
     "metadata": {},
     "output_type": "display_data"
    }
   ],
   "source": [
    "plt.boxplot(retail_data['quantity'])\n",
    "plt.show()"
   ]
  },
  {
   "cell_type": "code",
   "execution_count": 23,
   "id": "3b31efd4",
   "metadata": {},
   "outputs": [
    {
     "name": "stdout",
     "output_type": "stream",
     "text": [
      "count    93402.000000\n",
      "mean         3.274491\n",
      "std          4.198311\n",
      "min          0.000000\n",
      "25%          0.000000\n",
      "50%          1.000000\n",
      "75%          5.000000\n",
      "max         20.000000\n",
      "Name: quantity, dtype: float64\n"
     ]
    }
   ],
   "source": [
    "print(retail_data['quantity'].describe())"
   ]
  },
  {
   "cell_type": "markdown",
   "id": "789cd1e4",
   "metadata": {},
   "source": [
    "- There were 105335 values became 93402, cleaned 11933 or 11.3%"
   ]
  },
  {
   "cell_type": "code",
   "execution_count": 24,
   "id": "ab5ed8f3",
   "metadata": {},
   "outputs": [],
   "source": [
    "# Preparing df for further merging, grouping by cheque and item id\n",
    "retail_data = retail_data.groupby(['purchase_id', 'item_id']).agg({\n",
    "    'quantity': 'sum', \n",
    "    'purchase_date': 'first',\n",
    "    'customer_id': 'first',\n",
    "    'shop_id': 'first',\n",
    "    'loyalty_program': 'first'\n",
    "}).reset_index()"
   ]
  },
  {
   "cell_type": "code",
   "execution_count": 25,
   "id": "713d4bf8",
   "metadata": {},
   "outputs": [
    {
     "name": "stdout",
     "output_type": "stream",
     "text": [
      "<class 'pandas.core.frame.DataFrame'>\n",
      "RangeIndex: 91555 entries, 0 to 91554\n",
      "Data columns (total 7 columns):\n",
      " #   Column           Non-Null Count  Dtype         \n",
      "---  ------           --------------  -----         \n",
      " 0   purchase_id      91555 non-null  object        \n",
      " 1   item_id          91555 non-null  object        \n",
      " 2   quantity         91555 non-null  int64         \n",
      " 3   purchase_date    91555 non-null  datetime64[ns]\n",
      " 4   customer_id      56306 non-null  float64       \n",
      " 5   shop_id          91555 non-null  object        \n",
      " 6   loyalty_program  91555 non-null  float64       \n",
      "dtypes: datetime64[ns](1), float64(2), int64(1), object(3)\n",
      "memory usage: 4.9+ MB\n"
     ]
    }
   ],
   "source": [
    "retail_data.info()"
   ]
  },
  {
   "cell_type": "code",
   "execution_count": 26,
   "id": "c594d6ea",
   "metadata": {},
   "outputs": [
    {
     "data": {
      "text/plain": [
       "count     9969.000000\n",
       "mean        19.503697\n",
       "std        330.880754\n",
       "min          0.000000\n",
       "25%          1.250000\n",
       "50%          2.550000\n",
       "75%          5.510000\n",
       "max      16888.020000\n",
       "Name: price_per_one, dtype: float64"
      ]
     },
     "execution_count": 26,
     "metadata": {},
     "output_type": "execute_result"
    }
   ],
   "source": [
    "product_data['price_per_one'].describe()"
   ]
  },
  {
   "cell_type": "code",
   "execution_count": 27,
   "id": "46417b76",
   "metadata": {},
   "outputs": [],
   "source": [
    "# Preparing df for further merging, grouping by product id and price averaging\n",
    "product_data = product_data.groupby('product_id').agg({'price_per_one': 'mean'}).reset_index()"
   ]
  },
  {
   "cell_type": "code",
   "execution_count": 28,
   "id": "d98600f2",
   "metadata": {},
   "outputs": [
    {
     "name": "stdout",
     "output_type": "stream",
     "text": [
      "<class 'pandas.core.frame.DataFrame'>\n",
      "RangeIndex: 3159 entries, 0 to 3158\n",
      "Data columns (total 2 columns):\n",
      " #   Column         Non-Null Count  Dtype  \n",
      "---  ------         --------------  -----  \n",
      " 0   product_id     3159 non-null   object \n",
      " 1   price_per_one  3159 non-null   float64\n",
      "dtypes: float64(1), object(1)\n",
      "memory usage: 49.5+ KB\n"
     ]
    }
   ],
   "source": [
    "product_data.info()"
   ]
  },
  {
   "cell_type": "code",
   "execution_count": 29,
   "id": "c07f8adc",
   "metadata": {},
   "outputs": [],
   "source": [
    "# Merge 2 tables by product id\n",
    "data = retail_data.merge(product_data, left_on='item_id', right_on='product_id', how='inner')"
   ]
  },
  {
   "cell_type": "code",
   "execution_count": 30,
   "id": "21804aa9",
   "metadata": {},
   "outputs": [
    {
     "data": {
      "text/html": [
       "<div>\n",
       "<style scoped>\n",
       "    .dataframe tbody tr th:only-of-type {\n",
       "        vertical-align: middle;\n",
       "    }\n",
       "\n",
       "    .dataframe tbody tr th {\n",
       "        vertical-align: top;\n",
       "    }\n",
       "\n",
       "    .dataframe thead th {\n",
       "        text-align: right;\n",
       "    }\n",
       "</style>\n",
       "<table border=\"1\" class=\"dataframe\">\n",
       "  <thead>\n",
       "    <tr style=\"text-align: right;\">\n",
       "      <th></th>\n",
       "      <th>purchase_id</th>\n",
       "      <th>item_id</th>\n",
       "      <th>quantity</th>\n",
       "      <th>purchase_date</th>\n",
       "      <th>customer_id</th>\n",
       "      <th>shop_id</th>\n",
       "      <th>loyalty_program</th>\n",
       "      <th>product_id</th>\n",
       "      <th>price_per_one</th>\n",
       "    </tr>\n",
       "  </thead>\n",
       "  <tbody>\n",
       "    <tr>\n",
       "      <th>0</th>\n",
       "      <td>536365</td>\n",
       "      <td>21730</td>\n",
       "      <td>5</td>\n",
       "      <td>2016-12-01 08:26:00</td>\n",
       "      <td>23529.0</td>\n",
       "      <td>Shop 0</td>\n",
       "      <td>1.0</td>\n",
       "      <td>21730</td>\n",
       "      <td>7.3325</td>\n",
       "    </tr>\n",
       "    <tr>\n",
       "      <th>1</th>\n",
       "      <td>536373</td>\n",
       "      <td>21730</td>\n",
       "      <td>5</td>\n",
       "      <td>2016-12-01 09:02:00</td>\n",
       "      <td>23529.0</td>\n",
       "      <td>Shop 0</td>\n",
       "      <td>1.0</td>\n",
       "      <td>21730</td>\n",
       "      <td>7.3325</td>\n",
       "    </tr>\n",
       "    <tr>\n",
       "      <th>2</th>\n",
       "      <td>536375</td>\n",
       "      <td>21730</td>\n",
       "      <td>5</td>\n",
       "      <td>2016-12-01 09:32:00</td>\n",
       "      <td>23529.0</td>\n",
       "      <td>Shop 0</td>\n",
       "      <td>1.0</td>\n",
       "      <td>21730</td>\n",
       "      <td>7.3325</td>\n",
       "    </tr>\n",
       "    <tr>\n",
       "      <th>3</th>\n",
       "      <td>536396</td>\n",
       "      <td>21730</td>\n",
       "      <td>5</td>\n",
       "      <td>2016-12-01 10:51:00</td>\n",
       "      <td>23529.0</td>\n",
       "      <td>Shop 0</td>\n",
       "      <td>1.0</td>\n",
       "      <td>21730</td>\n",
       "      <td>7.3325</td>\n",
       "    </tr>\n",
       "    <tr>\n",
       "      <th>4</th>\n",
       "      <td>536406</td>\n",
       "      <td>21730</td>\n",
       "      <td>5</td>\n",
       "      <td>2016-12-01 11:33:00</td>\n",
       "      <td>23529.0</td>\n",
       "      <td>Shop 0</td>\n",
       "      <td>1.0</td>\n",
       "      <td>21730</td>\n",
       "      <td>7.3325</td>\n",
       "    </tr>\n",
       "    <tr>\n",
       "      <th>5</th>\n",
       "      <td>536600</td>\n",
       "      <td>21730</td>\n",
       "      <td>3</td>\n",
       "      <td>2016-12-02 08:32:00</td>\n",
       "      <td>23529.0</td>\n",
       "      <td>Shop 0</td>\n",
       "      <td>1.0</td>\n",
       "      <td>21730</td>\n",
       "      <td>7.3325</td>\n",
       "    </tr>\n",
       "    <tr>\n",
       "      <th>6</th>\n",
       "      <td>536602</td>\n",
       "      <td>21730</td>\n",
       "      <td>3</td>\n",
       "      <td>2016-12-02 08:34:00</td>\n",
       "      <td>23529.0</td>\n",
       "      <td>Shop 0</td>\n",
       "      <td>1.0</td>\n",
       "      <td>21730</td>\n",
       "      <td>7.3325</td>\n",
       "    </tr>\n",
       "    <tr>\n",
       "      <th>7</th>\n",
       "      <td>536609</td>\n",
       "      <td>21730</td>\n",
       "      <td>5</td>\n",
       "      <td>2016-12-02 09:41:00</td>\n",
       "      <td>23529.0</td>\n",
       "      <td>Shop 0</td>\n",
       "      <td>1.0</td>\n",
       "      <td>21730</td>\n",
       "      <td>7.3325</td>\n",
       "    </tr>\n",
       "    <tr>\n",
       "      <th>8</th>\n",
       "      <td>536612</td>\n",
       "      <td>21730</td>\n",
       "      <td>3</td>\n",
       "      <td>2016-12-02 09:44:00</td>\n",
       "      <td>23529.0</td>\n",
       "      <td>Shop 0</td>\n",
       "      <td>1.0</td>\n",
       "      <td>21730</td>\n",
       "      <td>7.3325</td>\n",
       "    </tr>\n",
       "    <tr>\n",
       "      <th>9</th>\n",
       "      <td>536628</td>\n",
       "      <td>21730</td>\n",
       "      <td>5</td>\n",
       "      <td>2016-12-02 10:54:00</td>\n",
       "      <td>23529.0</td>\n",
       "      <td>Shop 0</td>\n",
       "      <td>1.0</td>\n",
       "      <td>21730</td>\n",
       "      <td>7.3325</td>\n",
       "    </tr>\n",
       "  </tbody>\n",
       "</table>\n",
       "</div>"
      ],
      "text/plain": [
       "  purchase_id item_id  quantity       purchase_date  customer_id shop_id  \\\n",
       "0      536365   21730         5 2016-12-01 08:26:00      23529.0  Shop 0   \n",
       "1      536373   21730         5 2016-12-01 09:02:00      23529.0  Shop 0   \n",
       "2      536375   21730         5 2016-12-01 09:32:00      23529.0  Shop 0   \n",
       "3      536396   21730         5 2016-12-01 10:51:00      23529.0  Shop 0   \n",
       "4      536406   21730         5 2016-12-01 11:33:00      23529.0  Shop 0   \n",
       "5      536600   21730         3 2016-12-02 08:32:00      23529.0  Shop 0   \n",
       "6      536602   21730         3 2016-12-02 08:34:00      23529.0  Shop 0   \n",
       "7      536609   21730         5 2016-12-02 09:41:00      23529.0  Shop 0   \n",
       "8      536612   21730         3 2016-12-02 09:44:00      23529.0  Shop 0   \n",
       "9      536628   21730         5 2016-12-02 10:54:00      23529.0  Shop 0   \n",
       "\n",
       "   loyalty_program product_id  price_per_one  \n",
       "0              1.0      21730         7.3325  \n",
       "1              1.0      21730         7.3325  \n",
       "2              1.0      21730         7.3325  \n",
       "3              1.0      21730         7.3325  \n",
       "4              1.0      21730         7.3325  \n",
       "5              1.0      21730         7.3325  \n",
       "6              1.0      21730         7.3325  \n",
       "7              1.0      21730         7.3325  \n",
       "8              1.0      21730         7.3325  \n",
       "9              1.0      21730         7.3325  "
      ]
     },
     "metadata": {},
     "output_type": "display_data"
    }
   ],
   "source": [
    "display(data.head(10))"
   ]
  },
  {
   "cell_type": "code",
   "execution_count": 31,
   "id": "48b4e911",
   "metadata": {
    "scrolled": true
   },
   "outputs": [
    {
     "name": "stdout",
     "output_type": "stream",
     "text": [
      "<class 'pandas.core.frame.DataFrame'>\n",
      "RangeIndex: 91555 entries, 0 to 91554\n",
      "Data columns (total 9 columns):\n",
      " #   Column           Non-Null Count  Dtype         \n",
      "---  ------           --------------  -----         \n",
      " 0   purchase_id      91555 non-null  object        \n",
      " 1   item_id          91555 non-null  object        \n",
      " 2   quantity         91555 non-null  int64         \n",
      " 3   purchase_date    91555 non-null  datetime64[ns]\n",
      " 4   customer_id      56306 non-null  float64       \n",
      " 5   shop_id          91555 non-null  object        \n",
      " 6   loyalty_program  91555 non-null  float64       \n",
      " 7   product_id       91555 non-null  object        \n",
      " 8   price_per_one    91555 non-null  float64       \n",
      "dtypes: datetime64[ns](1), float64(3), int64(1), object(4)\n",
      "memory usage: 6.3+ MB\n"
     ]
    }
   ],
   "source": [
    "data.info()"
   ]
  },
  {
   "cell_type": "markdown",
   "id": "3455505a",
   "metadata": {},
   "source": [
    "--------"
   ]
  },
  {
   "cell_type": "markdown",
   "id": "92aa32c1",
   "metadata": {},
   "source": [
    "### 2. exploratory data analysis:"
   ]
  },
  {
   "cell_type": "markdown",
   "id": "1740482c",
   "metadata": {},
   "source": [
    "- Conduct exploratory analyses of the distribution of key variables\n",
    "- Finding patterns and analysing the relationship of variables to each other"
   ]
  },
  {
   "cell_type": "code",
   "execution_count": 32,
   "id": "ce1fe3e2",
   "metadata": {},
   "outputs": [
    {
     "data": {
      "text/plain": [
       "count    91555.000000\n",
       "mean         3.340549\n",
       "std          4.250035\n",
       "min          0.000000\n",
       "25%          0.000000\n",
       "50%          1.000000\n",
       "75%          5.000000\n",
       "max         38.000000\n",
       "Name: quantity, dtype: float64"
      ]
     },
     "execution_count": 32,
     "metadata": {},
     "output_type": "execute_result"
    }
   ],
   "source": [
    "# Allocate the quantity of a particular item in a cheque\n",
    "\n",
    "data['quantity'].describe()"
   ]
  },
  {
   "cell_type": "code",
   "execution_count": 33,
   "id": "31441a68",
   "metadata": {},
   "outputs": [
    {
     "data": {
      "image/png": "[encoded data removed]",
      "text/plain": [
       "<Figure size 640x480 with 1 Axes>"
      ]
     },
     "metadata": {},
     "output_type": "display_data"
    }
   ],
   "source": [
    "data['quantity'].hist(bins=25)\n",
    "plt.xticks(range(0, data['quantity'].max()+1, 2)) # шаг деления оси Х\n",
    "plt.xlabel('Number of units of goods purchased per purchase (Cheque)')\n",
    "plt.ylabel('Number of purchases (cheques)')\n",
    "plt.title('Distribution of product quantities in different purchases')\n",
    "plt.show()"
   ]
  },
  {
   "cell_type": "markdown",
   "id": "e190cd40",
   "metadata": {},
   "source": [
    "- In the overwhelming number of cheques (purchases), about 60 thousand out of 91555 or 65.5% purchased 1-2 units of goods;\n",
    "- There are 2 small bursts of 9-10 thousand cheques with 5 and 11 units of goods;\n",
    "- The median is 1 unit of goods, the mean is 3 units of goods;\n",
    "- 75% of purchases contain up to 5 units of goods."
   ]
  },
  {
   "cell_type": "code",
   "execution_count": 34,
   "id": "62588c88",
   "metadata": {},
   "outputs": [
    {
     "data": {
      "image/png": "[encoded data removed]",
      "text/plain": [
       "<Figure size 1200x600 with 1 Axes>"
      ]
     },
     "metadata": {},
     "output_type": "display_data"
    }
   ],
   "source": [
    "# Select the year and month from purchase_date:\n",
    "data[\"year_month\"] = data[\"purchase_date\"].dt.to_period(\"M\")\n",
    "\n",
    "# new df with the number of purchases by month\n",
    "month_purchase = data.groupby(\"year_month\")['purchase_id'].nunique().reset_index()\n",
    "\n",
    "# Rename the columns\n",
    "month_purchase.columns = ['month', 'purchases_count']\n",
    "\n",
    "# Graph sns\n",
    "plt.figure(figsize=(12,6))\n",
    "sns.set(style=\"darkgrid\")\n",
    "sns.barplot(x='month', y='purchases_count', data=month_purchase, palette='viridis')\n",
    "plt.title('Distribution of purchases by month')\n",
    "plt.xlabel('Month')\n",
    "plt.ylabel('Number of purchases (Cheques)')\n",
    "plt.show();"
   ]
  },
  {
   "cell_type": "markdown",
   "id": "3ccc8df2",
   "metadata": {},
   "source": [
    "- It can be seen that the maximum number of purchases was in December 2016 - ±1400. Then come January and February 2017 - ±1000 respectively."
   ]
  },
  {
   "cell_type": "code",
   "execution_count": 35,
   "id": "1a2bf965",
   "metadata": {},
   "outputs": [
    {
     "data": {
      "image/png": "[encoded data removed]",
      "text/plain": [
       "<Figure size 500x500 with 1 Axes>"
      ]
     },
     "metadata": {},
     "output_type": "display_data"
    }
   ],
   "source": [
    "# new df with the number of purchases by shop branches\n",
    "shop_purchase = data.groupby('shop_id')['purchase_id'].nunique().sort_values(ascending=False).reset_index()\n",
    "\n",
    "# Rename the columns\n",
    "shop_purchase.columns = ['shop_id', 'purchases_count']\n",
    "\n",
    "# Graph sns\n",
    "plt.figure(figsize=(5, 5))\n",
    "sns.barplot(y='shop_id', x='purchases_count', data=shop_purchase.head(), orient='h', color='blue')\n",
    "plt.title('Distribution of purchases by shop branches')\n",
    "plt.xlabel('Number of purchases (Cheques)')\n",
    "plt.ylabel('Shop')\n",
    "plt.show();"
   ]
  },
  {
   "cell_type": "code",
   "execution_count": 36,
   "id": "75729124",
   "metadata": {},
   "outputs": [
    {
     "data": {
      "text/html": [
       "<div>\n",
       "<style scoped>\n",
       "    .dataframe tbody tr th:only-of-type {\n",
       "        vertical-align: middle;\n",
       "    }\n",
       "\n",
       "    .dataframe tbody tr th {\n",
       "        vertical-align: top;\n",
       "    }\n",
       "\n",
       "    .dataframe thead th {\n",
       "        text-align: right;\n",
       "    }\n",
       "</style>\n",
       "<table border=\"1\" class=\"dataframe\">\n",
       "  <thead>\n",
       "    <tr style=\"text-align: right;\">\n",
       "      <th></th>\n",
       "      <th>shop_id</th>\n",
       "      <th>purchases_count</th>\n",
       "      <th>percent_purchases</th>\n",
       "    </tr>\n",
       "  </thead>\n",
       "  <tbody>\n",
       "    <tr>\n",
       "      <th>0</th>\n",
       "      <td>Shop 0</td>\n",
       "      <td>3217</td>\n",
       "      <td>91.00</td>\n",
       "    </tr>\n",
       "    <tr>\n",
       "      <th>1</th>\n",
       "      <td>Shop 4</td>\n",
       "      <td>79</td>\n",
       "      <td>2.23</td>\n",
       "    </tr>\n",
       "    <tr>\n",
       "      <th>2</th>\n",
       "      <td>Shop 1</td>\n",
       "      <td>71</td>\n",
       "      <td>2.01</td>\n",
       "    </tr>\n",
       "    <tr>\n",
       "      <th>3</th>\n",
       "      <td>Shop 6</td>\n",
       "      <td>36</td>\n",
       "      <td>1.02</td>\n",
       "    </tr>\n",
       "    <tr>\n",
       "      <th>4</th>\n",
       "      <td>Shop 12</td>\n",
       "      <td>16</td>\n",
       "      <td>0.45</td>\n",
       "    </tr>\n",
       "  </tbody>\n",
       "</table>\n",
       "</div>"
      ],
      "text/plain": [
       "   shop_id  purchases_count  percent_purchases\n",
       "0   Shop 0             3217              91.00\n",
       "1   Shop 4               79               2.23\n",
       "2   Shop 1               71               2.01\n",
       "3   Shop 6               36               1.02\n",
       "4  Shop 12               16               0.45"
      ]
     },
     "metadata": {},
     "output_type": "display_data"
    }
   ],
   "source": [
    "total_purchases = data['purchase_id'].nunique() # Total unique purchases\n",
    "\n",
    "shop_purchase['percent_purchases'] = (shop_purchase['purchases_count'] / total_purchases * 100)\n",
    "\n",
    "display(round(shop_purchase.head(), 2))"
   ]
  },
  {
   "cell_type": "code",
   "execution_count": 37,
   "id": "f447b798",
   "metadata": {
    "scrolled": true
   },
   "outputs": [
    {
     "name": "stdout",
     "output_type": "stream",
     "text": [
      "Total unique purchases: 3535\n"
     ]
    }
   ],
   "source": [
    "print(f'Total unique purchases: {total_purchases}')"
   ]
  },
  {
   "cell_type": "markdown",
   "id": "46efacf1",
   "metadata": {},
   "source": [
    "- Shop 0 leads by a wide margin with 3,217 purchases out of 3,535 total purchases or 91% of all purchases"
   ]
  },
  {
   "cell_type": "code",
   "execution_count": 38,
   "id": "df64473b",
   "metadata": {},
   "outputs": [
    {
     "data": {
      "text/html": [
       "<div>\n",
       "<style scoped>\n",
       "    .dataframe tbody tr th:only-of-type {\n",
       "        vertical-align: middle;\n",
       "    }\n",
       "\n",
       "    .dataframe tbody tr th {\n",
       "        vertical-align: top;\n",
       "    }\n",
       "\n",
       "    .dataframe thead th {\n",
       "        text-align: right;\n",
       "    }\n",
       "</style>\n",
       "<table border=\"1\" class=\"dataframe\">\n",
       "  <thead>\n",
       "    <tr style=\"text-align: right;\">\n",
       "      <th></th>\n",
       "      <th>quantity</th>\n",
       "      <th>price_per_one</th>\n",
       "    </tr>\n",
       "  </thead>\n",
       "  <tbody>\n",
       "    <tr>\n",
       "      <th>quantity</th>\n",
       "      <td>1.00000</td>\n",
       "      <td>-0.03817</td>\n",
       "    </tr>\n",
       "    <tr>\n",
       "      <th>price_per_one</th>\n",
       "      <td>-0.03817</td>\n",
       "      <td>1.00000</td>\n",
       "    </tr>\n",
       "  </tbody>\n",
       "</table>\n",
       "</div>"
      ],
      "text/plain": [
       "               quantity  price_per_one\n",
       "quantity        1.00000       -0.03817\n",
       "price_per_one  -0.03817        1.00000"
      ]
     },
     "execution_count": 38,
     "metadata": {},
     "output_type": "execute_result"
    }
   ],
   "source": [
    "# Correlation between quantity and price_per_one:\n",
    "\n",
    "data[['quantity', 'price_per_one']].corr()"
   ]
  },
  {
   "cell_type": "markdown",
   "id": "aeea95b7",
   "metadata": {},
   "source": [
    "- We observe an inverse correlation (-0.04) close to zero, which indicates the practical absence of correlation between the price per unit of goods and the number of goods."
   ]
  },
  {
   "cell_type": "code",
   "execution_count": 39,
   "id": "3ca38a80",
   "metadata": {},
   "outputs": [
    {
     "data": {
      "text/html": [
       "<div>\n",
       "<style scoped>\n",
       "    .dataframe tbody tr th:only-of-type {\n",
       "        vertical-align: middle;\n",
       "    }\n",
       "\n",
       "    .dataframe tbody tr th {\n",
       "        vertical-align: top;\n",
       "    }\n",
       "\n",
       "    .dataframe thead th {\n",
       "        text-align: right;\n",
       "    }\n",
       "</style>\n",
       "<table border=\"1\" class=\"dataframe\">\n",
       "  <thead>\n",
       "    <tr style=\"text-align: right;\">\n",
       "      <th></th>\n",
       "      <th>quantity</th>\n",
       "      <th>price_per_one</th>\n",
       "    </tr>\n",
       "    <tr>\n",
       "      <th>loyalty_program</th>\n",
       "      <th></th>\n",
       "      <th></th>\n",
       "    </tr>\n",
       "  </thead>\n",
       "  <tbody>\n",
       "    <tr>\n",
       "      <th>0.0</th>\n",
       "      <td>3.218798</td>\n",
       "      <td>5.321896</td>\n",
       "    </tr>\n",
       "    <tr>\n",
       "      <th>1.0</th>\n",
       "      <td>3.771339</td>\n",
       "      <td>4.816893</td>\n",
       "    </tr>\n",
       "  </tbody>\n",
       "</table>\n",
       "</div>"
      ],
      "text/plain": [
       "                 quantity  price_per_one\n",
       "loyalty_program                         \n",
       "0.0              3.218798       5.321896\n",
       "1.0              3.771339       4.816893"
      ]
     },
     "metadata": {},
     "output_type": "display_data"
    }
   ],
   "source": [
    "display(data.groupby('loyalty_program')[['quantity', 'price_per_one']].mean())"
   ]
  },
  {
   "cell_type": "markdown",
   "id": "5b0b84fe",
   "metadata": {},
   "source": [
    "- The number of purchased goods from loyalty programme members is on average 17% higher, but the price per unit is on average 10.6% lower."
   ]
  },
  {
   "cell_type": "code",
   "execution_count": 40,
   "id": "52649d3a",
   "metadata": {},
   "outputs": [
    {
     "data": {
      "image/png": "[encoded data removed]",
      "text/plain": [
       "<Figure size 500x500 with 1 Axes>"
      ]
     },
     "metadata": {},
     "output_type": "display_data"
    },
    {
     "data": {
      "image/png": "[encoded data removed]",
      "text/plain": [
       "<Figure size 500x500 with 1 Axes>"
      ]
     },
     "metadata": {},
     "output_type": "display_data"
    }
   ],
   "source": [
    "# Distribution in shopping between different shops:\n",
    "\n",
    "shop_data_price = data.groupby('shop_id')[['quantity', 'price_per_one']].mean().sort_values(by='price_per_one', ascending=False).reset_index()\n",
    "\n",
    "shop_data_quantity = data.groupby('shop_id')[['quantity', 'price_per_one']].mean().sort_values(by='quantity', ascending=False).reset_index()\n",
    "\n",
    "# График 1\n",
    "plt.figure(figsize=(5, 5))\n",
    "sns.barplot(y='shop_id', x='price_per_one', data=shop_data_price.head(), orient='h', color='green')\n",
    "plt.title('Average price per unit for each shop')\n",
    "plt.xlabel('Average unit price')\n",
    "plt.ylabel('Store ID')\n",
    "plt.show();\n",
    "\n",
    "# График 2\n",
    "plt.figure(figsize=(5, 5))\n",
    "sns.barplot(y='shop_id', x='quantity', data=shop_data_quantity.head(), orient='h', color='blue')\n",
    "plt.title('Average number of units sold per shop')\n",
    "plt.xlabel('Average number of units sold')\n",
    "plt.ylabel('Store ID')\n",
    "plt.show();"
   ]
  },
  {
   "cell_type": "markdown",
   "id": "ae09cd93",
   "metadata": {},
   "source": [
    "- Top 3 stores by average price per item: **Shop 24, 26, 16**\n",
    "- Top 3 stores by average number of items: **Shop 13, 30, 24**"
   ]
  },
  {
   "cell_type": "code",
   "execution_count": 41,
   "id": "044505f6",
   "metadata": {},
   "outputs": [],
   "source": [
    "# Calculation of revenue without payments from programme participants:\n",
    "\n",
    "data['revenue'] = data['quantity'] * data['price_per_one']\n",
    "\n",
    "sales_revenue = data['revenue'].sum()"
   ]
  },
  {
   "cell_type": "code",
   "execution_count": 42,
   "id": "f43dfb71",
   "metadata": {
    "scrolled": true
   },
   "outputs": [
    {
     "name": "stdout",
     "output_type": "stream",
     "text": [
      "Revenue (Without loyalty programme): 1089978.78 rub.\n"
     ]
    }
   ],
   "source": [
    "print(f'Revenue (Without loyalty programme): {round(sales_revenue, 2)} rub.')"
   ]
  },
  {
   "cell_type": "code",
   "execution_count": 43,
   "id": "f95eca24",
   "metadata": {},
   "outputs": [
    {
     "name": "stdout",
     "output_type": "stream",
     "text": [
      "Total Revenue: 1243978.78 rub.\n"
     ]
    }
   ],
   "source": [
    "# Calculation of total revenue:\n",
    "loyalty_revenue_total = data[data['loyalty_program'] == 1].groupby('year_month')\\\n",
    "['customer_id'].nunique().sum() * 200\n",
    "\n",
    "total_revenue = sales_revenue + loyalty_revenue_total\n",
    "\n",
    "print(f'Total Revenue: {round(total_revenue, 2)} rub.')"
   ]
  },
  {
   "cell_type": "code",
   "execution_count": 44,
   "id": "90c1e4bc",
   "metadata": {},
   "outputs": [
    {
     "data": {
      "text/html": [
       "<div>\n",
       "<style scoped>\n",
       "    .dataframe tbody tr th:only-of-type {\n",
       "        vertical-align: middle;\n",
       "    }\n",
       "\n",
       "    .dataframe tbody tr th {\n",
       "        vertical-align: top;\n",
       "    }\n",
       "\n",
       "    .dataframe thead th {\n",
       "        text-align: right;\n",
       "    }\n",
       "</style>\n",
       "<table border=\"1\" class=\"dataframe\">\n",
       "  <thead>\n",
       "    <tr style=\"text-align: right;\">\n",
       "      <th></th>\n",
       "      <th>loyalty_revenue</th>\n",
       "    </tr>\n",
       "    <tr>\n",
       "      <th>year_month</th>\n",
       "      <th></th>\n",
       "    </tr>\n",
       "  </thead>\n",
       "  <tbody>\n",
       "    <tr>\n",
       "      <th>2016-12</th>\n",
       "      <td>61400</td>\n",
       "    </tr>\n",
       "    <tr>\n",
       "      <th>2017-01</th>\n",
       "      <td>44400</td>\n",
       "    </tr>\n",
       "    <tr>\n",
       "      <th>2017-02</th>\n",
       "      <td>48200</td>\n",
       "    </tr>\n",
       "  </tbody>\n",
       "</table>\n",
       "</div>"
      ],
      "text/plain": [
       "            loyalty_revenue\n",
       "year_month                 \n",
       "2016-12               61400\n",
       "2017-01               44400\n",
       "2017-02               48200"
      ]
     },
     "metadata": {},
     "output_type": "display_data"
    }
   ],
   "source": [
    "# Payments for the loyalty programme by month:\n",
    "\n",
    "loyalty_revenue = data[data['loyalty_program'] == 1].groupby('year_month').agg(\n",
    "    loyalty_revenue=('customer_id', 'nunique')) * 200\n",
    "display(loyalty_revenue)"
   ]
  },
  {
   "cell_type": "code",
   "execution_count": 45,
   "id": "fc3135de",
   "metadata": {},
   "outputs": [
    {
     "data": {
      "text/html": [
       "<div>\n",
       "<style scoped>\n",
       "    .dataframe tbody tr th:only-of-type {\n",
       "        vertical-align: middle;\n",
       "    }\n",
       "\n",
       "    .dataframe tbody tr th {\n",
       "        vertical-align: top;\n",
       "    }\n",
       "\n",
       "    .dataframe thead th {\n",
       "        text-align: right;\n",
       "    }\n",
       "</style>\n",
       "<table border=\"1\" class=\"dataframe\">\n",
       "  <thead>\n",
       "    <tr style=\"text-align: right;\">\n",
       "      <th></th>\n",
       "      <th>shops_revenue</th>\n",
       "    </tr>\n",
       "    <tr>\n",
       "      <th>shop_id</th>\n",
       "      <th></th>\n",
       "    </tr>\n",
       "  </thead>\n",
       "  <tbody>\n",
       "    <tr>\n",
       "      <th>Shop 0</th>\n",
       "      <td>938454.41</td>\n",
       "    </tr>\n",
       "    <tr>\n",
       "      <th>Shop 4</th>\n",
       "      <td>35836.29</td>\n",
       "    </tr>\n",
       "    <tr>\n",
       "      <th>Shop 1</th>\n",
       "      <td>30995.38</td>\n",
       "    </tr>\n",
       "    <tr>\n",
       "      <th>Shop 6</th>\n",
       "      <td>19805.94</td>\n",
       "    </tr>\n",
       "    <tr>\n",
       "      <th>Shop 8</th>\n",
       "      <td>9456.57</td>\n",
       "    </tr>\n",
       "    <tr>\n",
       "      <th>Shop 10</th>\n",
       "      <td>7026.51</td>\n",
       "    </tr>\n",
       "    <tr>\n",
       "      <th>Shop 7</th>\n",
       "      <td>5489.14</td>\n",
       "    </tr>\n",
       "    <tr>\n",
       "      <th>Shop 12</th>\n",
       "      <td>4953.97</td>\n",
       "    </tr>\n",
       "    <tr>\n",
       "      <th>Shop 2</th>\n",
       "      <td>4646.16</td>\n",
       "    </tr>\n",
       "    <tr>\n",
       "      <th>Shop 18</th>\n",
       "      <td>3836.69</td>\n",
       "    </tr>\n",
       "  </tbody>\n",
       "</table>\n",
       "</div>"
      ],
      "text/plain": [
       "         shops_revenue\n",
       "shop_id               \n",
       "Shop 0       938454.41\n",
       "Shop 4        35836.29\n",
       "Shop 1        30995.38\n",
       "Shop 6        19805.94\n",
       "Shop 8         9456.57\n",
       "Shop 10        7026.51\n",
       "Shop 7         5489.14\n",
       "Shop 12        4953.97\n",
       "Shop 2         4646.16\n",
       "Shop 18        3836.69"
      ]
     },
     "metadata": {},
     "output_type": "display_data"
    }
   ],
   "source": [
    "# Let's look at the revenue for each shop\n",
    "\n",
    "shops_revenue = data.groupby('shop_id').agg(\n",
    "    shops_revenue=('revenue', 'sum')).sort_values(by='shops_revenue', ascending=False)\n",
    "\n",
    "display(round(shops_revenue.head(10), 2))"
   ]
  },
  {
   "cell_type": "markdown",
   "id": "900b7eaa",
   "metadata": {},
   "source": [
    "--------"
   ]
  },
  {
   "cell_type": "markdown",
   "id": "52ce7481",
   "metadata": {},
   "source": [
    "### 3. Resolving basic customer issues:"
   ]
  },
  {
   "cell_type": "markdown",
   "id": "5ae79ea2",
   "metadata": {},
   "source": [
    "- Average cheque;\n",
    "- Frequency of purchases;\n",
    "- LTV;\n",
    "- Percentage of purchases under the loyalty programme;\n",
    "- Percentage of customers participating in the loyalty programme;\n",
    "- Average number of goods in a cheque."
   ]
  },
  {
   "cell_type": "code",
   "execution_count": 46,
   "id": "bedbdea6",
   "metadata": {},
   "outputs": [],
   "source": [
    "# Average check including loyalty programme:\n",
    "\n",
    "avg_receipt = total_revenue / data['purchase_id'].nunique()"
   ]
  },
  {
   "cell_type": "code",
   "execution_count": 47,
   "id": "9ea0dd57",
   "metadata": {},
   "outputs": [
    {
     "name": "stdout",
     "output_type": "stream",
     "text": [
      "The average cheque is general: 351.9 rub.\n"
     ]
    }
   ],
   "source": [
    "print(f'The average cheque is general: {round(avg_receipt, 2)} rub.')"
   ]
  },
  {
   "cell_type": "code",
   "execution_count": 48,
   "id": "069d3f4f",
   "metadata": {},
   "outputs": [],
   "source": [
    "# Average cheque for each group\n",
    "\n",
    "loyal_group = data[data['loyalty_program'] == 1]\n",
    "non_loyal_group = data[data['loyalty_program'] == 0]\n",
    "\n",
    "# Total revenue for each group\n",
    "revenue_loyal_group = loyal_group['revenue'].sum() + loyal_group['customer_id'].nunique() * 200\n",
    "revenue_non_loyal_group = non_loyal_group['revenue'].sum()\n",
    "\n",
    "# Number of unique purchases\n",
    "unique_purch_loyal = loyal_group['purchase_id'].nunique()\n",
    "unique_purch_non_loyal = non_loyal_group['purchase_id'].nunique()\n",
    "\n",
    "# Calculate the average cheque for each group\n",
    "avg_receipt_loyal = revenue_loyal_group / unique_purch_loyal\n",
    "avg_receipt_non_loyal = revenue_non_loyal_group / unique_purch_non_loyal"
   ]
  },
  {
   "cell_type": "code",
   "execution_count": 49,
   "id": "65a54870",
   "metadata": {},
   "outputs": [
    {
     "name": "stdout",
     "output_type": "stream",
     "text": [
      "Average cheque - loyal customer: 371.14 rub.\n",
      "Average cheque - Non-loyal customer: 325.57 rub.\n"
     ]
    }
   ],
   "source": [
    "print(f'Average cheque - loyal customer: {round(avg_receipt_loyal, 2)} rub.')\n",
    "print(f'Average cheque - Non-loyal customer: {round(avg_receipt_non_loyal, 2)} rub.')"
   ]
  },
  {
   "cell_type": "code",
   "execution_count": 50,
   "id": "160b0a45",
   "metadata": {},
   "outputs": [],
   "source": [
    "# Purchase frequency: this is the number of cheques divided by the number of unique customers.\n",
    "\n",
    "purchase_freq = data['purchase_id'].nunique() / data['customer_id'].nunique()"
   ]
  },
  {
   "cell_type": "code",
   "execution_count": 51,
   "id": "7cff53df",
   "metadata": {
    "scrolled": true
   },
   "outputs": [
    {
     "name": "stdout",
     "output_type": "stream",
     "text": [
      "Frequency of purchases: 2.21\n"
     ]
    }
   ],
   "source": [
    "print(f'Frequency of purchases: {round(purchase_freq, 2)}')"
   ]
  },
  {
   "cell_type": "code",
   "execution_count": 52,
   "id": "afed175b",
   "metadata": {},
   "outputs": [],
   "source": [
    "# Grouping data:\n",
    "num_purchases_by_cust = data.groupby(['customer_id', 'loyalty_program'])['purchase_id'].nunique().reset_index()\n",
    "\n",
    "# Calculate the average number of purchases per customer:\n",
    "avg_purchases_loyal = num_purchases_by_cust[num_purchases_by_cust['loyalty_program'] == 1]['purchase_id'].mean()\n",
    "avg_purchases_non_loyal = num_purchases_by_cust[num_purchases_by_cust['loyalty_program'] == 0]['purchase_id'].mean()"
   ]
  },
  {
   "cell_type": "code",
   "execution_count": 53,
   "id": "b08d1213",
   "metadata": {},
   "outputs": [
    {
     "name": "stdout",
     "output_type": "stream",
     "text": [
      "Average number of purchases per loyal customer:  1.923\n",
      "Average number of purchases per non-loyal customer: 1.936\n"
     ]
    }
   ],
   "source": [
    "print(f'Average number of purchases per loyal customer:  {round(avg_purchases_loyal, 3)}')\n",
    "print(f'Average number of purchases per non-loyal customer: {round(avg_purchases_non_loyal, 3)}')"
   ]
  },
  {
   "cell_type": "code",
   "execution_count": 54,
   "id": "89973754",
   "metadata": {},
   "outputs": [],
   "source": [
    "# LTV calculation. Finding the first month of purchase for each customer.\n",
    "\n",
    "first_purchase_date = data.groupby('customer_id')['year_month'].min()\n",
    "first_purchase_date.name = 'first_purchase_month'\n",
    "data = data.join(first_purchase_date, on='customer_id')"
   ]
  },
  {
   "cell_type": "code",
   "execution_count": 55,
   "id": "7fe38220",
   "metadata": {},
   "outputs": [],
   "source": [
    "# Group customers by month of first purchase and calculate total revenue for each cohort:\n",
    "\n",
    "cohorts = data.groupby(['first_purchase_month', 'year_month']).agg({\n",
    "    'revenue': 'sum',\n",
    "    'customer_id': 'nunique'\n",
    "})"
   ]
  },
  {
   "cell_type": "code",
   "execution_count": 56,
   "id": "5e09ca06",
   "metadata": {},
   "outputs": [
    {
     "data": {
      "text/html": [
       "<div>\n",
       "<style scoped>\n",
       "    .dataframe tbody tr th:only-of-type {\n",
       "        vertical-align: middle;\n",
       "    }\n",
       "\n",
       "    .dataframe tbody tr th {\n",
       "        vertical-align: top;\n",
       "    }\n",
       "\n",
       "    .dataframe thead th {\n",
       "        text-align: right;\n",
       "    }\n",
       "</style>\n",
       "<table border=\"1\" class=\"dataframe\">\n",
       "  <thead>\n",
       "    <tr style=\"text-align: right;\">\n",
       "      <th></th>\n",
       "      <th></th>\n",
       "      <th>revenue</th>\n",
       "      <th>customer_id</th>\n",
       "    </tr>\n",
       "    <tr>\n",
       "      <th>first_purchase_month</th>\n",
       "      <th>year_month</th>\n",
       "      <th></th>\n",
       "      <th></th>\n",
       "    </tr>\n",
       "  </thead>\n",
       "  <tbody>\n",
       "    <tr>\n",
       "      <th rowspan=\"3\" valign=\"top\">2016-12</th>\n",
       "      <th>2016-12</th>\n",
       "      <td>361925.320371</td>\n",
       "      <td>836</td>\n",
       "    </tr>\n",
       "    <tr>\n",
       "      <th>2017-01</th>\n",
       "      <td>152309.548042</td>\n",
       "      <td>299</td>\n",
       "    </tr>\n",
       "    <tr>\n",
       "      <th>2017-02</th>\n",
       "      <td>111806.487204</td>\n",
       "      <td>261</td>\n",
       "    </tr>\n",
       "    <tr>\n",
       "      <th rowspan=\"2\" valign=\"top\">2017-01</th>\n",
       "      <th>2017-01</th>\n",
       "      <td>153272.896758</td>\n",
       "      <td>404</td>\n",
       "    </tr>\n",
       "    <tr>\n",
       "      <th>2017-02</th>\n",
       "      <td>31907.417012</td>\n",
       "      <td>85</td>\n",
       "    </tr>\n",
       "    <tr>\n",
       "      <th>2017-02</th>\n",
       "      <th>2017-02</th>\n",
       "      <td>135773.660834</td>\n",
       "      <td>360</td>\n",
       "    </tr>\n",
       "  </tbody>\n",
       "</table>\n",
       "</div>"
      ],
      "text/plain": [
       "                                       revenue  customer_id\n",
       "first_purchase_month year_month                            \n",
       "2016-12              2016-12     361925.320371          836\n",
       "                     2017-01     152309.548042          299\n",
       "                     2017-02     111806.487204          261\n",
       "2017-01              2017-01     153272.896758          404\n",
       "                     2017-02      31907.417012           85\n",
       "2017-02              2017-02     135773.660834          360"
      ]
     },
     "metadata": {},
     "output_type": "display_data"
    }
   ],
   "source": [
    "display(cohorts)"
   ]
  },
  {
   "cell_type": "code",
   "execution_count": 57,
   "id": "963a94ec",
   "metadata": {},
   "outputs": [],
   "source": [
    "# Average revenue per customer for each cohort\n",
    "\n",
    "cohorts['revenue_per_user'] = cohorts['revenue'] / cohorts['customer_id']"
   ]
  },
  {
   "cell_type": "code",
   "execution_count": 58,
   "id": "8773542a",
   "metadata": {},
   "outputs": [],
   "source": [
    "# LTV calculation for each cohort\n",
    "\n",
    "cohorts = cohorts.reset_index()\n",
    "cohorts['cohort_lifetime'] = (cohorts['year_month'] - cohorts['first_purchase_month']).apply(lambda x: x.n)\n",
    "\n",
    "ltv_cohort = cohorts[cohorts['cohort_lifetime'] < 3].groupby('first_purchase_month').agg(\n",
    "    ltv_cohort=('revenue_per_user', 'sum'))"
   ]
  },
  {
   "cell_type": "code",
   "execution_count": 59,
   "id": "b9295c5b",
   "metadata": {},
   "outputs": [
    {
     "data": {
      "text/html": [
       "<div>\n",
       "<style scoped>\n",
       "    .dataframe tbody tr th:only-of-type {\n",
       "        vertical-align: middle;\n",
       "    }\n",
       "\n",
       "    .dataframe tbody tr th {\n",
       "        vertical-align: top;\n",
       "    }\n",
       "\n",
       "    .dataframe thead th {\n",
       "        text-align: right;\n",
       "    }\n",
       "</style>\n",
       "<table border=\"1\" class=\"dataframe\">\n",
       "  <thead>\n",
       "    <tr style=\"text-align: right;\">\n",
       "      <th></th>\n",
       "      <th>ltv_cohort</th>\n",
       "    </tr>\n",
       "    <tr>\n",
       "      <th>first_purchase_month</th>\n",
       "      <th></th>\n",
       "    </tr>\n",
       "  </thead>\n",
       "  <tbody>\n",
       "    <tr>\n",
       "      <th>2016-12</th>\n",
       "      <td>1370.70</td>\n",
       "    </tr>\n",
       "    <tr>\n",
       "      <th>2017-01</th>\n",
       "      <td>754.77</td>\n",
       "    </tr>\n",
       "    <tr>\n",
       "      <th>2017-02</th>\n",
       "      <td>377.15</td>\n",
       "    </tr>\n",
       "  </tbody>\n",
       "</table>\n",
       "</div>"
      ],
      "text/plain": [
       "                      ltv_cohort\n",
       "first_purchase_month            \n",
       "2016-12                  1370.70\n",
       "2017-01                   754.77\n",
       "2017-02                   377.15"
      ]
     },
     "metadata": {},
     "output_type": "display_data"
    }
   ],
   "source": [
    "display(round(ltv_cohort, 2))"
   ]
  },
  {
   "cell_type": "markdown",
   "id": "47c3e6ad",
   "metadata": {},
   "source": [
    "- ltv_cohort shows the average total revenue that the company received from one customer in each cohort over the observation period since their first purchase.\n",
    "- A cohort is a group of customers who made their first purchase in a particular month.\n",
    "\n",
    "    - On average, each customer who made their first purchase in December 2016 (2016-12) brought 1,370.70 to the company over the observation period.\n",
    "    - January 2017 customers brought in 754.77 RUB.\n",
    "    - February 2017 customers brought 377.15 RUB."
   ]
  },
  {
   "cell_type": "code",
   "execution_count": 60,
   "id": "c7b768ea",
   "metadata": {},
   "outputs": [
    {
     "name": "stdout",
     "output_type": "stream",
     "text": [
      "Percentage of purchases under the loyalty programme: 29.48%\n"
     ]
    }
   ],
   "source": [
    "# Percentage of purchases under the loyalty programme\n",
    "loyal_purch_percent = (data[data['loyalty_program'] == 1]['purchase_id'].nunique() / data['purchase_id'].nunique()) * 100\n",
    "\n",
    "print(f\"Percentage of purchases under the loyalty programme: {round(loyal_purch_percent, 2)}%\")"
   ]
  },
  {
   "cell_type": "code",
   "execution_count": 61,
   "id": "9fd5f4c6",
   "metadata": {},
   "outputs": [
    {
     "name": "stdout",
     "output_type": "stream",
     "text": [
      "Percentage of customers participating in the loyalty programme: 33.88%\n"
     ]
    }
   ],
   "source": [
    "# Percentage of customers participating in the loyalty programme\n",
    "loyal_customers_percent = (data[data['loyalty_program'] == 1]['customer_id'].nunique() / data['customer_id'].nunique()) * 100\n",
    "\n",
    "print(f\"Percentage of customers participating in the loyalty programme: {round(loyal_customers_percent, 2)}%\")"
   ]
  },
  {
   "cell_type": "code",
   "execution_count": 62,
   "id": "e9d4aa77",
   "metadata": {},
   "outputs": [
    {
     "name": "stdout",
     "output_type": "stream",
     "text": [
      "Average number of goods in a cheque: 86.5\n"
     ]
    }
   ],
   "source": [
    "# Average number of items in a cheque\n",
    "avg_items = data['quantity'].sum() / data['purchase_id'].nunique()\n",
    "\n",
    "print(f\"Average number of goods in a cheque: {round(avg_items, 1)}\")"
   ]
  },
  {
   "cell_type": "markdown",
   "id": "a0c6f318",
   "metadata": {},
   "source": [
    "### 4. Statistical hypothesis testing (two H0 hypotheses):"
   ]
  },
  {
   "cell_type": "markdown",
   "id": "47b91d79",
   "metadata": {},
   "source": [
    "- Formulation of 2 null and alternative hypotheses;\n",
    "- Selection of appropriate statistical tests;\n",
    "- Carrying out statistical testing;\n",
    "- Interpretation of test results."
   ]
  },
  {
   "cell_type": "markdown",
   "id": "ad0c713f",
   "metadata": {},
   "source": [
    "``Hypothesis 1:``\n",
    "- H0: The average cheque of customers participating in a loyalty programme is **not different** from the average cheque of customers not participating in a loyalty programme.\n",
    "- H1: The average cheque of customers participating in the loyalty programme is **different** from the average cheque of customers not participating in the loyalty programme.\n",
    "\n",
    "``alpha = 0.05``"
   ]
  },
  {
   "cell_type": "code",
   "execution_count": 63,
   "id": "d6f002c6",
   "metadata": {},
   "outputs": [],
   "source": [
    "# Calculating the amount for each group\n",
    "\n",
    "loyalty_hyp_1 = data[data['loyalty_program'] == 1]['revenue']\n",
    "\n",
    "non_loyalty_hyp_1 = data[data['loyalty_program'] == 0]['revenue']"
   ]
  },
  {
   "cell_type": "code",
   "execution_count": 64,
   "id": "8088220f",
   "metadata": {},
   "outputs": [
    {
     "data": {
      "image/png": "[encoded data removed]",
      "text/plain": [
       "<Figure size 640x480 with 1 Axes>"
      ]
     },
     "metadata": {},
     "output_type": "display_data"
    }
   ],
   "source": [
    "# Chart loyalty_hyp_1:\n",
    "\n",
    "loyalty_hyp_1.hist(bins=5000, color='blue')\n",
    "plt.xlim(0, 60)\n",
    "plt.title('Distribution of purchase amounts of loyal customers')\n",
    "plt.xlabel('Revenue')\n",
    "plt.ylabel('Quantity')\n",
    "plt.show();"
   ]
  },
  {
   "cell_type": "code",
   "execution_count": 65,
   "id": "e983c85e",
   "metadata": {
    "scrolled": false
   },
   "outputs": [
    {
     "data": {
      "image/png": "[encoded data removed]",
      "text/plain": [
       "<Figure size 640x480 with 1 Axes>"
      ]
     },
     "metadata": {},
     "output_type": "display_data"
    }
   ],
   "source": [
    "# Schedule non_loyalty_hyp_1:\n",
    "\n",
    "non_loyalty_hyp_1.hist(bins=5000, color='red')\n",
    "plt.xlim(0, 60)\n",
    "plt.title('Distribution of purchase amounts of Non-loyal customers')\n",
    "plt.xlabel('Revenue')\n",
    "plt.ylabel('Quantity')\n",
    "plt.show();"
   ]
  },
  {
   "cell_type": "markdown",
   "id": "15852119",
   "metadata": {},
   "source": [
    "- The distribution deviates strongly from normal, the Mann-Whitney U-test can be applied."
   ]
  },
  {
   "cell_type": "code",
   "execution_count": 66,
   "id": "73fe1686",
   "metadata": {},
   "outputs": [
    {
     "name": "stdout",
     "output_type": "stream",
     "text": [
      "p-value: 1.231303549422221e-148\n",
      "Reject the null hypothesis\n"
     ]
    }
   ],
   "source": [
    "# Применение теста Манна-Уитни\n",
    "\n",
    "stat, p = mannwhitneyu(loyalty_hyp_1, non_loyalty_hyp_1)\n",
    "\n",
    "print('p-value:', p)\n",
    "\n",
    "# alpha - significance level value\n",
    "alpha = .05\n",
    "\n",
    "# display the p-value on the screen\n",
    "if p < alpha:\n",
    "    print('Reject the null hypothesis')\n",
    "else:\n",
    "    print('Failed to reject the null hypothesis')"
   ]
  },
  {
   "cell_type": "markdown",
   "id": "a0c709a4",
   "metadata": {},
   "source": [
    "- We have statistically significant evidence of a difference between the average cheques of these two groups of shoppers;\n",
    "- The loyalty programme affects the average cheque of customers, namely:\n",
    "    - Average cheque - Loyal customer: 371.14 rub.\n",
    "    - Average cheque - Non-loyal customer: 325.57 rubles.\n",
    "- This may indicate the effectiveness of the loyalty programme in terms of increasing sales;\n",
    "- It is worth considering the possibility of expanding the programme or creating additional incentives for participation in it."
   ]
  },
  {
   "cell_type": "markdown",
   "id": "06671103",
   "metadata": {},
   "source": [
    "--------"
   ]
  },
  {
   "cell_type": "markdown",
   "id": "ddea055d",
   "metadata": {},
   "source": [
    "```Hypothesis 2:```.\n",
    "- H0: The number of purchases per customer from customers participating in a loyalty programme is **not different** from the frequency of purchases from customers not participating in a loyalty programme.\n",
    "- H1: The number of purchases per customer from customers participating in the loyalty programme **differ** from the frequency of purchases from customers not participating in the loyalty programme.\n",
    "\n",
    "```alpha = 0.05```"
   ]
  },
  {
   "cell_type": "code",
   "execution_count": 67,
   "id": "a87ce358",
   "metadata": {},
   "outputs": [],
   "source": [
    "# Calculating the number of purchases per customer\n",
    "\n",
    "loyal_purch_hyp_2 = loyal_group.groupby('customer_id')['purchase_id'].nunique()\n",
    "non_loyal_purch_hyp_2 = non_loyal_group.groupby('customer_id')['purchase_id'].nunique()"
   ]
  },
  {
   "cell_type": "code",
   "execution_count": 68,
   "id": "485dc1c7",
   "metadata": {},
   "outputs": [
    {
     "data": {
      "image/png": "[encoded data removed]",
      "text/plain": [
       "<Figure size 640x480 with 1 Axes>"
      ]
     },
     "metadata": {},
     "output_type": "display_data"
    }
   ],
   "source": [
    "# Chart loyal_purchase_hyp_2:\n",
    "loyal_purch_hyp_2.hist(bins=30, color='blue')\n",
    "plt.xlim(0, 10)         \n",
    "plt.title('Distribution of the number of purchases among the loyalty programme participants')\n",
    "plt.xlabel('Number of purchases (Cheques)')\n",
    "plt.ylabel('Number of clients')\n",
    "plt.show();"
   ]
  },
  {
   "cell_type": "code",
   "execution_count": 69,
   "id": "e69ed99d",
   "metadata": {},
   "outputs": [
    {
     "data": {
      "image/png": "[encoded data removed]",
      "text/plain": [
       "<Figure size 640x480 with 1 Axes>"
      ]
     },
     "metadata": {},
     "output_type": "display_data"
    }
   ],
   "source": [
    "# Chart non_loyal_purchase_hyp_2:\n",
    "\n",
    "non_loyal_purch_hyp_2.hist(bins=30, color='red')\n",
    "plt.xlim(0, 10)         \n",
    "plt.title('Distribution of the number of purchases among non-loyalty programme members')\n",
    "plt.xlabel('Number of purchases (Cheques)')\n",
    "plt.ylabel('Number of clients')\n",
    "plt.show();"
   ]
  },
  {
   "cell_type": "markdown",
   "id": "20257296",
   "metadata": {},
   "source": [
    "- The distribution in hypothesis 2 also deviates strongly from normal, the Mann-Whitney U-test can be applied."
   ]
  },
  {
   "cell_type": "code",
   "execution_count": 70,
   "id": "27ddf72a",
   "metadata": {},
   "outputs": [
    {
     "name": "stdout",
     "output_type": "stream",
     "text": [
      "p-value: 0.04553126150006569\n",
      "Reject the null hypothesis\n"
     ]
    }
   ],
   "source": [
    "# Application of the Mann-Whitney test\n",
    "stat, p = mannwhitneyu(loyal_purch_hyp_2, non_loyal_purch_hyp_2)\n",
    "\n",
    "print('p-value:', p)\n",
    "\n",
    "# alpha is the value of the significance level\n",
    "alpha = .05\n",
    "\n",
    "# print p-value to the screen\n",
    "if p < alpha:\n",
    "    print('Reject the null hypothesis')\n",
    "else:\n",
    "    print('Failed to reject the null hypothesis')"
   ]
  },
  {
   "cell_type": "markdown",
   "id": "aca94efa",
   "metadata": {},
   "source": [
    "- We reject the null hypothesis although the value is very close to the alpha of 0.05;\n",
    "- The number of purchases per customer of customers participating in the loyalty programme is statistically different from the frequency of purchases of customers not participating in the loyalty programme."
   ]
  },
  {
   "cell_type": "markdown",
   "id": "47d3316b",
   "metadata": {},
   "source": [
    "### 5. Conclusion and recommendations for the customer:"
   ]
  },
  {
   "cell_type": "markdown",
   "id": "90de097e",
   "metadata": {},
   "source": [
    "### Distribution of the number of purchases:\n",
    "\n",
    "- The overwhelming number of cheques(purchases), approximately 60k out of 91555 or 65.5% purchased 1-2 units of goods;\n",
    "- There are 2 small spikes of 9-10k cheques with 5 and 11 units of goods;\n",
    "- The median is 1 unit of goods, the mean is 3 units of goods;\n",
    "- 75% of purchases contain up to 5 units of goods.\n",
    "\n",
    "### Distribution of purchases by month:\n",
    "\n",
    "- December 2016 - **±1400** purchases.\n",
    "- January 2017 - **±1000** purchases;\n",
    "- February 2017 - **±1000** purchases;\n",
    "- The number of items purchased by loyalty programme members is on average 17% higher, but the price per unit is on average 10.6% lower.\n",
    "\n",
    "### Distribution in purchases between different shops:\n",
    "\n",
    "- Shop 0 leads by a large margin with 3217 purchases out of 3535 or 91% of all purchases;\n",
    "- Top 3 shops by average price per item: **Shop 24, 26, 16**\n",
    "- Top 3 shops by average number of items: **Shop 13, 30, 24**\n",
    "\n",
    "### Calculation of key retail metrics for customers participating / not participating in the loyalty programme:\n",
    "\n",
    "- Average cheque - general: **351.9 rub.\n",
    "    - Average cheque - loyal customer: **371.14 rub.**\n",
    "    - Average cheque - Non-loyal customer: **325.57 rub.**\n",
    "- Purchase frequency (How many times on average each client (loyalty programme) makes a purchase): **2.21 purchases**\n",
    "    - Average number of purchases per loyal customer: **1.923**\n",
    "    - Average number of purchases per non-loyal customer: **1.936**\n",
    "\n",
    "### Revenue Calculation:\n",
    "\n",
    "- The ltv_cohort shows the average total revenue that a company received from a single customer in each cohort over the observation period since their first purchase.\n",
    "- A cohort is a group of customers who made their first purchase in a particular month.\n",
    "\n",
    "    - On average, each customer who made their first purchase in December 2016 (2016-12) brought 1,370.70 to the company over the observation period.\n",
    "    - January 2017 customers brought in R754.77.\n",
    "    - February 2017 customers brought in R377.15.\n",
    "\n",
    "\n",
    "- Percentage of loyalty programme purchases: **29.48%**\n",
    "- Percentage of customers participating in the loyalty programme: **33.88%**\n",
    "- Average number of goods in a cheque: **86.5**\n",
    "\n",
    "### Statistical Hypothesis Testing:\n",
    "\n",
    "- Hypothesis 1: p-value: 1.2e-148 -> Reject the null hypothesis -> H1: The average check of customers participating in the loyalty programme is **different** from the average check of customers not participating in the loyalty programme.\n",
    "- We have statistically significant evidence of a difference between the average cheques of these two groups of shoppers;\n",
    "- The loyalty programme affects the average cheque of shoppers, namely:\n",
    "    - Average cheque - Loyal customer: 371.14 rubles.\n",
    "    - Average cheque - Non-loyal customer: 325.57 rubles.\n",
    "- This may indicate the effectiveness of the loyalty programme in terms of increasing sales;\n",
    "- It is worth considering the possibility of expanding the programme or creating additional incentives for participation in it.\n",
    "\n",
    "- Hypothesis 2: p-value: 0.0455 -> Reject the null hypothesis -> H1: The number of purchases per customer of customers participating in the loyalty programme is **different** from the frequency of purchases of customers not participating in the loyalty programme.\n",
    "- The number of purchases per customer from customers participating in the loyalty programme is statistically different from the frequency of purchases from customers not participating in the loyalty programme.\n",
    "\n",
    "## Recommendations: \n",
    "\n",
    "- Average cheque: **Statistically Different**\n",
    "    - Average cheque - Loyal customer: 371.14 rubles.\n",
    "    - Average cheque - Non-loyal customer: 325.57 rubles.\n",
    "- Number of purchases per customer: **Statistically different**\n",
    "    - Average number of purchases per loyal customer: **1.923**\n",
    "    - Average number of purchases per non-loyal customer: **1.936**\n",
    "\n",
    "**According to the results of the analysis we can assume that the loyalty programme is effective, as the average check and revenue indicators are higher for the programme participants, we have statistically significant evidence of the difference between the average customer checks of these two groups of customers.It is recommended to consider the possibility of expanding the programme or creating additional incentives for participation in it.**"
   ]
  },
  {
   "cell_type": "markdown",
   "id": "2d6ac5c2",
   "metadata": {},
   "source": [
    "--------"
   ]
  },
  {
   "cell_type": "markdown",
   "id": "42d9aca3",
   "metadata": {},
   "source": [
    "### 6. Dashboard"
   ]
  },
  {
   "cell_type": "markdown",
   "id": "9ade30ec",
   "metadata": {},
   "source": [
    "- Preparing a table for Dashboard"
   ]
  },
  {
   "cell_type": "code",
   "execution_count": 71,
   "id": "dd4d43d8",
   "metadata": {},
   "outputs": [],
   "source": [
    "data['month_day'] = data[\"purchase_date\"].dt.to_period(\"D\")\n"
   ]
  },
  {
   "cell_type": "code",
   "execution_count": 72,
   "id": "789f9289",
   "metadata": {},
   "outputs": [
    {
     "data": {
      "text/html": [
       "<div>\n",
       "<style scoped>\n",
       "    .dataframe tbody tr th:only-of-type {\n",
       "        vertical-align: middle;\n",
       "    }\n",
       "\n",
       "    .dataframe tbody tr th {\n",
       "        vertical-align: top;\n",
       "    }\n",
       "\n",
       "    .dataframe thead th {\n",
       "        text-align: right;\n",
       "    }\n",
       "</style>\n",
       "<table border=\"1\" class=\"dataframe\">\n",
       "  <thead>\n",
       "    <tr style=\"text-align: right;\">\n",
       "      <th></th>\n",
       "      <th>purchase_id</th>\n",
       "      <th>item_id</th>\n",
       "      <th>quantity</th>\n",
       "      <th>purchase_date</th>\n",
       "      <th>customer_id</th>\n",
       "      <th>shop_id</th>\n",
       "      <th>loyalty_program</th>\n",
       "      <th>product_id</th>\n",
       "      <th>price_per_one</th>\n",
       "      <th>year_month</th>\n",
       "      <th>revenue</th>\n",
       "      <th>first_purchase_month</th>\n",
       "      <th>month_day</th>\n",
       "    </tr>\n",
       "  </thead>\n",
       "  <tbody>\n",
       "    <tr>\n",
       "      <th>0</th>\n",
       "      <td>536365</td>\n",
       "      <td>21730</td>\n",
       "      <td>5</td>\n",
       "      <td>2016-12-01 08:26:00</td>\n",
       "      <td>23529.0</td>\n",
       "      <td>Shop 0</td>\n",
       "      <td>1.0</td>\n",
       "      <td>21730</td>\n",
       "      <td>7.3325</td>\n",
       "      <td>2016-12</td>\n",
       "      <td>36.6625</td>\n",
       "      <td>2016-12</td>\n",
       "      <td>2016-12-01</td>\n",
       "    </tr>\n",
       "    <tr>\n",
       "      <th>1</th>\n",
       "      <td>536373</td>\n",
       "      <td>21730</td>\n",
       "      <td>5</td>\n",
       "      <td>2016-12-01 09:02:00</td>\n",
       "      <td>23529.0</td>\n",
       "      <td>Shop 0</td>\n",
       "      <td>1.0</td>\n",
       "      <td>21730</td>\n",
       "      <td>7.3325</td>\n",
       "      <td>2016-12</td>\n",
       "      <td>36.6625</td>\n",
       "      <td>2016-12</td>\n",
       "      <td>2016-12-01</td>\n",
       "    </tr>\n",
       "    <tr>\n",
       "      <th>2</th>\n",
       "      <td>536375</td>\n",
       "      <td>21730</td>\n",
       "      <td>5</td>\n",
       "      <td>2016-12-01 09:32:00</td>\n",
       "      <td>23529.0</td>\n",
       "      <td>Shop 0</td>\n",
       "      <td>1.0</td>\n",
       "      <td>21730</td>\n",
       "      <td>7.3325</td>\n",
       "      <td>2016-12</td>\n",
       "      <td>36.6625</td>\n",
       "      <td>2016-12</td>\n",
       "      <td>2016-12-01</td>\n",
       "    </tr>\n",
       "    <tr>\n",
       "      <th>3</th>\n",
       "      <td>536396</td>\n",
       "      <td>21730</td>\n",
       "      <td>5</td>\n",
       "      <td>2016-12-01 10:51:00</td>\n",
       "      <td>23529.0</td>\n",
       "      <td>Shop 0</td>\n",
       "      <td>1.0</td>\n",
       "      <td>21730</td>\n",
       "      <td>7.3325</td>\n",
       "      <td>2016-12</td>\n",
       "      <td>36.6625</td>\n",
       "      <td>2016-12</td>\n",
       "      <td>2016-12-01</td>\n",
       "    </tr>\n",
       "    <tr>\n",
       "      <th>4</th>\n",
       "      <td>536406</td>\n",
       "      <td>21730</td>\n",
       "      <td>5</td>\n",
       "      <td>2016-12-01 11:33:00</td>\n",
       "      <td>23529.0</td>\n",
       "      <td>Shop 0</td>\n",
       "      <td>1.0</td>\n",
       "      <td>21730</td>\n",
       "      <td>7.3325</td>\n",
       "      <td>2016-12</td>\n",
       "      <td>36.6625</td>\n",
       "      <td>2016-12</td>\n",
       "      <td>2016-12-01</td>\n",
       "    </tr>\n",
       "  </tbody>\n",
       "</table>\n",
       "</div>"
      ],
      "text/plain": [
       "  purchase_id item_id  quantity       purchase_date  customer_id shop_id  \\\n",
       "0      536365   21730         5 2016-12-01 08:26:00      23529.0  Shop 0   \n",
       "1      536373   21730         5 2016-12-01 09:02:00      23529.0  Shop 0   \n",
       "2      536375   21730         5 2016-12-01 09:32:00      23529.0  Shop 0   \n",
       "3      536396   21730         5 2016-12-01 10:51:00      23529.0  Shop 0   \n",
       "4      536406   21730         5 2016-12-01 11:33:00      23529.0  Shop 0   \n",
       "\n",
       "   loyalty_program product_id  price_per_one year_month  revenue  \\\n",
       "0              1.0      21730         7.3325    2016-12  36.6625   \n",
       "1              1.0      21730         7.3325    2016-12  36.6625   \n",
       "2              1.0      21730         7.3325    2016-12  36.6625   \n",
       "3              1.0      21730         7.3325    2016-12  36.6625   \n",
       "4              1.0      21730         7.3325    2016-12  36.6625   \n",
       "\n",
       "  first_purchase_month   month_day  \n",
       "0              2016-12  2016-12-01  \n",
       "1              2016-12  2016-12-01  \n",
       "2              2016-12  2016-12-01  \n",
       "3              2016-12  2016-12-01  \n",
       "4              2016-12  2016-12-01  "
      ]
     },
     "metadata": {},
     "output_type": "display_data"
    }
   ],
   "source": [
    "display(data.head())"
   ]
  },
  {
   "cell_type": "code",
   "execution_count": 73,
   "id": "83a13557",
   "metadata": {},
   "outputs": [
    {
     "name": "stdout",
     "output_type": "stream",
     "text": [
      "<class 'pandas.core.frame.DataFrame'>\n",
      "RangeIndex: 91555 entries, 0 to 91554\n",
      "Data columns (total 13 columns):\n",
      " #   Column                Non-Null Count  Dtype         \n",
      "---  ------                --------------  -----         \n",
      " 0   purchase_id           91555 non-null  object        \n",
      " 1   item_id               91555 non-null  object        \n",
      " 2   quantity              91555 non-null  int64         \n",
      " 3   purchase_date         91555 non-null  datetime64[ns]\n",
      " 4   customer_id           56306 non-null  float64       \n",
      " 5   shop_id               91555 non-null  object        \n",
      " 6   loyalty_program       91555 non-null  float64       \n",
      " 7   product_id            91555 non-null  object        \n",
      " 8   price_per_one         91555 non-null  float64       \n",
      " 9   year_month            91555 non-null  period[M]     \n",
      " 10  revenue               91555 non-null  float64       \n",
      " 11  first_purchase_month  56306 non-null  period[M]     \n",
      " 12  month_day             91555 non-null  period[D]     \n",
      "dtypes: datetime64[ns](1), float64(4), int64(1), object(4), period[D](1), period[M](2)\n",
      "memory usage: 9.1+ MB\n"
     ]
    }
   ],
   "source": [
    "data.info()"
   ]
  },
  {
   "cell_type": "code",
   "execution_count": 74,
   "id": "5b678e8c",
   "metadata": {},
   "outputs": [],
   "source": [
    "data.to_csv('final_project_dashboard_table.csv')"
   ]
  },
  {
   "cell_type": "code",
   "execution_count": null,
   "id": "45795b1e",
   "metadata": {},
   "outputs": [],
   "source": []
  }
 ],
 "metadata": {
  "ExecuteTimeLog": [
   {
    "duration": 5,
    "start_time": "2023-05-20T10:14:34.419Z"
   },
   {
    "duration": 245,
    "start_time": "2023-05-20T10:14:34.447Z"
   },
   {
    "duration": 40,
    "start_time": "2023-05-20T10:14:34.693Z"
   },
   {
    "duration": 34,
    "start_time": "2023-05-20T10:14:34.735Z"
   },
   {
    "duration": 48,
    "start_time": "2023-05-20T10:14:34.771Z"
   },
   {
    "duration": 133,
    "start_time": "2023-05-20T10:14:34.821Z"
   },
   {
    "duration": 141,
    "start_time": "2023-05-20T10:14:34.961Z"
   },
   {
    "duration": 122,
    "start_time": "2023-05-20T10:14:35.116Z"
   },
   {
    "duration": 166,
    "start_time": "2023-05-20T10:14:35.248Z"
   },
   {
    "duration": 106,
    "start_time": "2023-05-20T10:14:35.420Z"
   },
   {
    "duration": 113,
    "start_time": "2023-05-20T10:14:35.531Z"
   },
   {
    "duration": 110,
    "start_time": "2023-05-20T10:14:35.654Z"
   },
   {
    "duration": 888,
    "start_time": "2023-05-20T10:14:35.767Z"
   },
   {
    "duration": 36,
    "start_time": "2023-05-20T10:14:36.662Z"
   },
   {
    "duration": 180,
    "start_time": "2023-05-20T10:14:36.704Z"
   },
   {
    "duration": 36,
    "start_time": "2023-05-20T10:14:36.890Z"
   },
   {
    "duration": 110,
    "start_time": "2023-05-20T10:14:36.928Z"
   },
   {
    "duration": 113,
    "start_time": "2023-05-20T10:14:37.040Z"
   },
   {
    "duration": 138,
    "start_time": "2023-05-20T10:14:37.155Z"
   },
   {
    "duration": 55,
    "start_time": "2023-05-20T10:14:37.305Z"
   },
   {
    "duration": 222,
    "start_time": "2023-05-20T10:14:37.369Z"
   },
   {
    "duration": 31,
    "start_time": "2023-05-20T10:14:37.597Z"
   },
   {
    "duration": 235,
    "start_time": "2023-05-20T10:14:37.634Z"
   },
   {
    "duration": 14,
    "start_time": "2023-05-20T10:14:37.874Z"
   },
   {
    "duration": 184,
    "start_time": "2023-05-20T10:14:37.893Z"
   },
   {
    "duration": 22,
    "start_time": "2023-05-20T10:14:38.083Z"
   },
   {
    "duration": 89,
    "start_time": "2023-05-20T10:14:41.839Z"
   },
   {
    "duration": 6,
    "start_time": "2023-05-20T10:14:42.409Z"
   },
   {
    "duration": 13,
    "start_time": "2023-05-20T10:14:49.076Z"
   },
   {
    "duration": 33,
    "start_time": "2023-05-20T10:15:11.707Z"
   },
   {
    "duration": 302,
    "start_time": "2023-05-20T10:15:12.568Z"
   },
   {
    "duration": 361,
    "start_time": "2023-05-20T10:15:14.755Z"
   },
   {
    "duration": 750,
    "start_time": "2023-05-20T10:15:16.608Z"
   },
   {
    "duration": 77,
    "start_time": "2023-05-20T10:15:17.368Z"
   },
   {
    "duration": 206,
    "start_time": "2023-05-20T10:15:17.452Z"
   },
   {
    "duration": 55,
    "start_time": "2023-05-20T10:15:18.171Z"
   },
   {
    "duration": 47,
    "start_time": "2023-05-20T10:15:18.738Z"
   },
   {
    "duration": 1511,
    "start_time": "2023-05-20T10:15:23.423Z"
   },
   {
    "duration": 112,
    "start_time": "2023-05-20T10:15:32.435Z"
   },
   {
    "duration": 13,
    "start_time": "2023-05-20T10:15:33.495Z"
   },
   {
    "duration": 1333,
    "start_time": "2023-05-22T05:49:28.739Z"
   },
   {
    "duration": 122,
    "start_time": "2023-05-22T05:49:30.075Z"
   },
   {
    "duration": 22,
    "start_time": "2023-05-22T05:49:30.199Z"
   },
   {
    "duration": 37,
    "start_time": "2023-05-22T05:49:30.223Z"
   },
   {
    "duration": 54,
    "start_time": "2023-05-22T05:49:30.262Z"
   },
   {
    "duration": 98,
    "start_time": "2023-05-22T05:49:30.318Z"
   },
   {
    "duration": 114,
    "start_time": "2023-05-22T05:49:30.417Z"
   },
   {
    "duration": 46,
    "start_time": "2023-05-22T05:49:30.532Z"
   },
   {
    "duration": 73,
    "start_time": "2023-05-22T05:49:30.580Z"
   },
   {
    "duration": 51,
    "start_time": "2023-05-22T05:49:30.656Z"
   },
   {
    "duration": 37,
    "start_time": "2023-05-22T05:49:30.709Z"
   },
   {
    "duration": 99,
    "start_time": "2023-05-22T05:49:30.748Z"
   },
   {
    "duration": 597,
    "start_time": "2023-05-22T05:49:30.849Z"
   },
   {
    "duration": 30,
    "start_time": "2023-05-22T05:49:31.449Z"
   },
   {
    "duration": 114,
    "start_time": "2023-05-22T05:49:31.481Z"
   },
   {
    "duration": 15,
    "start_time": "2023-05-22T05:49:31.597Z"
   },
   {
    "duration": 56,
    "start_time": "2023-05-22T05:49:31.614Z"
   },
   {
    "duration": 36,
    "start_time": "2023-05-22T05:49:31.672Z"
   },
   {
    "duration": 29,
    "start_time": "2023-05-22T05:49:31.711Z"
   },
   {
    "duration": 27,
    "start_time": "2023-05-22T05:49:31.743Z"
   },
   {
    "duration": 184,
    "start_time": "2023-05-22T05:49:31.772Z"
   },
   {
    "duration": 21,
    "start_time": "2023-05-22T05:49:31.958Z"
   },
   {
    "duration": 137,
    "start_time": "2023-05-22T05:49:31.981Z"
   },
   {
    "duration": 12,
    "start_time": "2023-05-22T05:49:32.119Z"
   },
   {
    "duration": 171,
    "start_time": "2023-05-22T05:49:32.133Z"
   },
   {
    "duration": 31,
    "start_time": "2023-05-22T05:49:32.306Z"
   },
   {
    "duration": 32,
    "start_time": "2023-05-22T05:49:32.340Z"
   },
   {
    "duration": 17,
    "start_time": "2023-05-22T05:49:35.850Z"
   },
   {
    "duration": 13,
    "start_time": "2023-05-22T05:49:36.825Z"
   },
   {
    "duration": 30,
    "start_time": "2023-05-22T05:49:44.793Z"
   },
   {
    "duration": 24,
    "start_time": "2023-05-22T05:50:51.173Z"
   },
   {
    "duration": 27,
    "start_time": "2023-05-22T05:50:56.418Z"
   },
   {
    "duration": 5,
    "start_time": "2023-05-22T05:52:06.767Z"
   },
   {
    "duration": 124,
    "start_time": "2023-05-22T05:52:06.775Z"
   },
   {
    "duration": 21,
    "start_time": "2023-05-22T05:52:06.901Z"
   },
   {
    "duration": 12,
    "start_time": "2023-05-22T05:52:06.925Z"
   },
   {
    "duration": 20,
    "start_time": "2023-05-22T05:52:06.939Z"
   },
   {
    "duration": 44,
    "start_time": "2023-05-22T05:52:06.961Z"
   },
   {
    "duration": 13,
    "start_time": "2023-05-22T05:52:07.007Z"
   },
   {
    "duration": 28,
    "start_time": "2023-05-22T05:52:07.022Z"
   },
   {
    "duration": 30,
    "start_time": "2023-05-22T05:52:07.052Z"
   },
   {
    "duration": 36,
    "start_time": "2023-05-22T05:52:07.084Z"
   },
   {
    "duration": 13,
    "start_time": "2023-05-22T05:52:07.123Z"
   },
   {
    "duration": 80,
    "start_time": "2023-05-22T05:52:07.138Z"
   },
   {
    "duration": 627,
    "start_time": "2023-05-22T05:52:07.219Z"
   },
   {
    "duration": 40,
    "start_time": "2023-05-22T05:52:07.849Z"
   },
   {
    "duration": 30,
    "start_time": "2023-05-22T05:52:07.894Z"
   },
   {
    "duration": 18,
    "start_time": "2023-05-22T05:52:07.927Z"
   },
   {
    "duration": 37,
    "start_time": "2023-05-22T05:52:07.947Z"
   },
   {
    "duration": 17,
    "start_time": "2023-05-22T05:52:07.986Z"
   },
   {
    "duration": 25,
    "start_time": "2023-05-22T05:52:08.005Z"
   },
   {
    "duration": 14,
    "start_time": "2023-05-22T05:52:08.032Z"
   },
   {
    "duration": 156,
    "start_time": "2023-05-22T05:52:08.048Z"
   },
   {
    "duration": 22,
    "start_time": "2023-05-22T05:52:08.207Z"
   },
   {
    "duration": 145,
    "start_time": "2023-05-22T05:52:08.232Z"
   },
   {
    "duration": 13,
    "start_time": "2023-05-22T05:52:08.381Z"
   },
   {
    "duration": 21,
    "start_time": "2023-05-22T05:52:18.163Z"
   },
   {
    "duration": 23,
    "start_time": "2023-05-22T05:52:44.101Z"
   },
   {
    "duration": 20,
    "start_time": "2023-05-22T05:52:50.844Z"
   },
   {
    "duration": 32,
    "start_time": "2023-05-22T05:53:04.641Z"
   },
   {
    "duration": 25,
    "start_time": "2023-05-22T05:53:20.279Z"
   },
   {
    "duration": 17,
    "start_time": "2023-05-22T05:53:32.733Z"
   },
   {
    "duration": 159,
    "start_time": "2023-05-22T05:53:39.345Z"
   },
   {
    "duration": 32,
    "start_time": "2023-05-22T05:53:42.517Z"
   },
   {
    "duration": 37,
    "start_time": "2023-05-22T05:55:32.422Z"
   },
   {
    "duration": 33,
    "start_time": "2023-05-22T05:56:04.246Z"
   },
   {
    "duration": 11,
    "start_time": "2023-05-22T05:56:04.752Z"
   },
   {
    "duration": 10,
    "start_time": "2023-05-22T05:56:05.270Z"
   },
   {
    "duration": 16,
    "start_time": "2023-05-22T05:56:07.733Z"
   },
   {
    "duration": 19,
    "start_time": "2023-05-22T05:56:12.817Z"
   },
   {
    "duration": 24,
    "start_time": "2023-05-22T05:56:27.791Z"
   },
   {
    "duration": 34,
    "start_time": "2023-05-22T05:56:37.533Z"
   },
   {
    "duration": 37,
    "start_time": "2023-05-22T05:56:49.462Z"
   },
   {
    "duration": 19,
    "start_time": "2023-05-22T05:57:27.766Z"
   },
   {
    "duration": 27,
    "start_time": "2023-05-22T05:57:28.382Z"
   }
  ],
  "kernelspec": {
   "display_name": "Python 3 (ipykernel)",
   "language": "python",
   "name": "python3"
  },
  "language_info": {
   "codemirror_mode": {
    "name": "ipython",
    "version": 3
   },
   "file_extension": ".py",
   "mimetype": "text/x-python",
   "name": "python",
   "nbconvert_exporter": "python",
   "pygments_lexer": "ipython3",
   "version": "3.9.13"
  },
  "toc": {
   "base_numbering": 1,
   "nav_menu": {},
   "number_sections": true,
   "sideBar": true,
   "skip_h1_title": true,
   "title_cell": "Table of Contents",
   "title_sidebar": "Contents",
   "toc_cell": false,
   "toc_position": {},
   "toc_section_display": true,
   "toc_window_display": false
  }
 },
 "nbformat": 4,
 "nbformat_minor": 5
}
